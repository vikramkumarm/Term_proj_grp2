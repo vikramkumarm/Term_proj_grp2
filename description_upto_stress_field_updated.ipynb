{
 "cells": [
  {
   "cell_type": "code",
   "execution_count": 1,
   "metadata": {},
   "outputs": [],
   "source": [
    "from polarUtilities import*\n",
    "from IPython.display import Math, Latex"
   ]
  },
  {
   "cell_type": "code",
   "execution_count": 2,
   "metadata": {},
   "outputs": [
    {
     "data": {
      "text/latex": [
       "$\\displaystyle r^{3} f{\\left(\\theta \\right)}$"
      ],
      "text/plain": [
       "r**3*f(theta)"
      ]
     },
     "execution_count": 2,
     "metadata": {},
     "output_type": "execute_result"
    }
   ],
   "source": [
    "\n",
    "phi_polar = r**3*sym.Function('f')(theta)\n",
    "phi_polar"
   ]
  },
  {
   "cell_type": "code",
   "execution_count": 3,
   "metadata": {},
   "outputs": [
    {
     "data": {
      "text/latex": [
       "$\\displaystyle f{\\left(\\theta \\right)} = C_{1} e^{- 3 i \\theta} + C_{2} e^{- i \\theta} + C_{3} e^{i \\theta} + C_{4} e^{3 i \\theta}$"
      ],
      "text/plain": [
       "Eq(f(theta), C1*exp(-3*I*theta) + C2*exp(-I*theta) + C3*exp(I*theta) + C4*exp(3*I*theta))"
      ]
     },
     "execution_count": 3,
     "metadata": {},
     "output_type": "execute_result"
    }
   ],
   "source": [
    "sym.dsolve(polarbiharmonic(phi_polar)).simplify().expand()"
   ]
  },
  {
   "cell_type": "code",
   "execution_count": 4,
   "metadata": {},
   "outputs": [
    {
     "data": {
      "text/latex": [
       "$\\displaystyle f(\\theta) = A \\cos{\\left(3 \\theta \\right)} + B \\sin{\\left(3 \\theta \\right)} + C \\cos{\\left(\\theta \\right)} + D \\sin{\\left(\\theta \\right)}$"
      ],
      "text/plain": [
       "<IPython.core.display.Math object>"
      ]
     },
     "metadata": {},
     "output_type": "display_data"
    }
   ],
   "source": [
    "A, B, C, D ,x,y, rho,g , h , alpha, = sym.symbols('A, B, C, D,x,y,rho,g ,h , alpha')\n",
    "fnew = A*sym.cos(3*theta) + B*sym.sin(3*theta) + C*sym.cos(theta) + D*sym.sin(theta)\n",
    "display(Math(r'f(\\theta) = {}'.format(sym.latex(fnew))))"
   ]
  },
  {
   "cell_type": "code",
   "execution_count": 5,
   "metadata": {},
   "outputs": [
    {
     "data": {
      "text/latex": [
       "$\\displaystyle \\phi{(r,\\theta)} = r^{3} \\left(A \\cos^{3}{\\left(\\theta \\right)} + B \\sin^{3}{\\left(\\theta \\right)} + C \\cos{\\left(\\theta \\right)} + D \\sin{\\left(\\theta \\right)}\\right)$"
      ],
      "text/plain": [
       "<IPython.core.display.Math object>"
      ]
     },
     "metadata": {},
     "output_type": "display_data"
    }
   ],
   "source": [
    "phi_polarr=r**3*(A*sym.cos(theta)**3 + B*sym.sin(theta)**3 + C*sym.cos(theta) + D*sym.sin(theta))\n",
    "display(Math(r'\\phi{{(r,\\theta)}} = {}'.format(sym.latex(phi_polarr))))"
   ]
  },
  {
   "cell_type": "markdown",
   "metadata": {},
   "source": [
    "We will do this problem in cartesian coordinate since we require some plots of Maximum Principal Stress with $x$ and $y$ coordinates in the later stages.<br>\n",
    "To convert our Airy stress function to cartesian system we substitute the values of $r$ and $\\theta$ to $\\phi(r,\\theta)$\n",
    "\\begin{align*}\n",
    "r = x^2+y^2 \\\\\n",
    "\\theta=\\tan^{-1}(y/x)\n",
    "\\end{align*}"
   ]
  },
  {
   "cell_type": "code",
   "execution_count": 6,
   "metadata": {},
   "outputs": [
    {
     "data": {
      "text/latex": [
       "$\\displaystyle \\frac{x^{5} \\left(\\frac{x^{2} + y^{2}}{x^{2}}\\right)^{\\frac{5}{2}} \\left(A x^{3} + B y^{3} + C x \\left(x^{2} + y^{2}\\right) + D y \\left(x^{2} + y^{2}\\right)\\right)}{\\left(x^{2} + y^{2}\\right)^{2.5}}$"
      ],
      "text/plain": [
       "x**5*((x**2 + y**2)/x**2)**(5/2)*(x**2 + y**2)**(-2.5)*(A*x**3 + B*y**3 + C*x*(x**2 + y**2) + D*y*(x**2 + y**2))"
      ]
     },
     "metadata": {},
     "output_type": "display_data"
    }
   ],
   "source": [
    "phi_cart=phi_polarr.subs([(r,((x**2+y**2)**0.5)),(theta,(sym.atan(y/x)))]).simplify()\n",
    "display(phi_cart)"
   ]
  },
  {
   "cell_type": "markdown",
   "metadata": {},
   "source": [
    "From the function obtained above after further simplification by hand we can obtain the new function $\\phi(x,y)$ which is our required Airy stress function in cartesian coordinate as \n",
    "\\begin{align*}\n",
    "\\phi(x,y) = Ax^3 + By^3 + Cx^2y  + Dxy^2\n",
    "\\end{align*}\n",
    "###### NOTE: The Value of Constants A,B,C,D  in $\\phi(x,y)$ are different from the function before simplification"
   ]
  },
  {
   "cell_type": "code",
   "execution_count": 7,
   "metadata": {},
   "outputs": [
    {
     "data": {
      "text/latex": [
       "$\\displaystyle \\phi{(x,y)} = A x^{3} + B y^{3} + C x^{2} y + D x y^{2}$"
      ],
      "text/plain": [
       "<IPython.core.display.Math object>"
      ]
     },
     "metadata": {},
     "output_type": "display_data"
    }
   ],
   "source": [
    "phi= A*x**3 + B*y**3 + C*x**2*y  + D*x*y**2\n",
    "display(Math(r'\\phi{{(x,y)}} = {}'.format(sym.latex(phi))))"
   ]
  },
  {
   "cell_type": "markdown",
   "metadata": {},
   "source": [
    "Now we will find out the biharmonic equation of $\\phi(x,y)$ and check whether it is equal to zero.\n",
    "\\begin{align}\n",
    "i.e. \\nabla^4\\phi = 0\n",
    "\\end{align}<br>"
   ]
  },
  {
   "cell_type": "code",
   "execution_count": 8,
   "metadata": {},
   "outputs": [
    {
     "data": {
      "text/latex": [
       "$\\displaystyle 0$"
      ],
      "text/plain": [
       "0"
      ]
     },
     "metadata": {},
     "output_type": "display_data"
    }
   ],
   "source": [
    "\n",
    "biharm = (sym.diff(phi,(x,4)) + 2*sym.diff(phi,x,x,y,y) + sym.diff(phi,(y,4)))\n",
    "display(biharm)"
   ]
  },
  {
   "cell_type": "markdown",
   "metadata": {},
   "source": [
    "## Stress Fields\n",
    "The stress fields can be obtained from the following equations\n",
    "\\begin{align*}\n",
    "\\sigma_{xx}^\\rm{{1}} &= \\frac{\\partial^2\\phi(x,y)}{\\partial y^2},\\\\\n",
    "\\sigma_{yy}^\\rm{{1}} &= \\frac{\\partial^2\\phi(x,y)}{\\partial x^2},\\\\\n",
    "\\sigma_{xy} &= -\\frac{\\partial^2\\phi(x,y)}{\\partial x\\partial y}\n",
    "\\end{align*}\n",
    "But here the stress fields are found out without considering the conservative body forces. In order to incorporate this we will modify the stress fields by adding a $+V$ term to the normal stress components.<br>\n",
    "\\begin{align*}\n",
    "\\sigma_{xx} &= \\sigma_{{xx}}^\\rm{{1}}+V\\\\\n",
    "\\sigma_{yy} &= \\sigma_{{yy}}^\\rm{{1}}+V\\\\\n",
    "\\end{align*}\n",
    "where $V$ is the body force potential.<br>\n",
    "In our problem the body force is due to gravity and it acts downwards along the $x$ axis.<br>\n",
    "So we have,<br>\n",
    "\\begin{align*}\n",
    "F_{x} &= \\rho_c g\\\\\n",
    "F_{y} &= 0\\\\\n",
    "\\end{align*}\n",
    "Where $\\rho_c$ is the density of the concrete and $g$ is the acceleration due to gravity.<br>\n",
    "So from the definition of body force potential we have,\n",
    "\\begin{align*}\n",
    "V=-\\rho_c gx\\\\\n",
    "\\end{align*}"
   ]
  },
  {
   "cell_type": "code",
   "execution_count": 9,
   "metadata": {},
   "outputs": [
    {
     "data": {
      "text/latex": [
       "$\\displaystyle \\sigma_{xx} = 6 B y + 2 D x - g \\rho_{c} x$"
      ],
      "text/plain": [
       "<IPython.core.display.Math object>"
      ]
     },
     "metadata": {},
     "output_type": "display_data"
    },
    {
     "data": {
      "text/latex": [
       "$\\displaystyle \\sigma_{yy} = 6 A x + 2 C y - g \\rho_{c} x$"
      ],
      "text/plain": [
       "<IPython.core.display.Math object>"
      ]
     },
     "metadata": {},
     "output_type": "display_data"
    },
    {
     "data": {
      "text/latex": [
       "$\\displaystyle \\sigma_{xy} = - 2 C x - 2 D y$"
      ],
      "text/plain": [
       "<IPython.core.display.Math object>"
      ]
     },
     "metadata": {},
     "output_type": "display_data"
    }
   ],
   "source": [
    "rhoc,g=sym.symbols('rho_c,g')\n",
    "sigma_xx1 = sym.diff(phi,(y,2)).simplify()\n",
    "\n",
    "sigma_yy1 = sym.diff(phi,(x,2)).simplify()\n",
    "\n",
    "sigma_xy = -sym.diff(phi,x,y).simplify()\n",
    "\n",
    "sigma_xx = sigma_xx1 - rhoc*g*x \n",
    "sigma_yy = sigma_yy1 - rhoc*g*x \n",
    "\n",
    "display(Math(r'\\sigma_{{xx}} = {}'.format(sym.latex(sigma_xx))))\n",
    "display(Math(r'\\sigma_{{yy}} = {}'.format(sym.latex(sigma_yy))))\n",
    "display(Math(r'\\sigma_{{xy}} = {}'.format(sym.latex(sigma_xy))))"
   ]
  },
  {
   "cell_type": "markdown",
   "metadata": {},
   "source": [
    "## Implementation of boundary conditions\n",
    "Now we will apply the boundary conditions at y=0\n",
    "\\begin{align*}\n",
    "\\sigma_{yy}=-\\rho gx \\hspace{0.5cm} ; \\hspace{0.5cm} at y = 0 \\\\\n",
    "\\sigma_{xy}=0 \\hspace{0.5cm} ; \\hspace{0.5cm} at y = 0 \\\\\n",
    "\\end{align*}\n",
    "Where $\\rho$ is the density of water.\n",
    "                                                 "
   ]
  },
  {
   "cell_type": "code",
   "execution_count": 10,
   "metadata": {},
   "outputs": [
    {
     "data": {
      "text/latex": [
       "$\\displaystyle 6 A x - g \\rho_{c} x = - g \\rho x$"
      ],
      "text/plain": [
       "Eq(6*A*x - g*rho_c*x, -g*rho*x)"
      ]
     },
     "metadata": {},
     "output_type": "display_data"
    },
    {
     "data": {
      "text/latex": [
       "$\\displaystyle - 2 C x = 0$"
      ],
      "text/plain": [
       "Eq(-2*C*x, 0)"
      ]
     },
     "metadata": {},
     "output_type": "display_data"
    }
   ],
   "source": [
    "rho=sym.symbols('rho')\n",
    "\n",
    "lhs1 = sigma_yy.subs(y,0)\n",
    "rhs1 = -rho*g*x\n",
    "bc1 = sym.Eq(lhs1,rhs1)\n",
    "\n",
    "lhs2 = sigma_xy.subs(y,0)\n",
    "rhs2 = 0\n",
    "bc2 = sym.Eq(lhs2,rhs2)\n",
    "display(bc1,bc2)"
   ]
  },
  {
   "cell_type": "markdown",
   "metadata": {},
   "source": [
    "Applying boundary condition at x=h \n",
    "\\begin{align*}\n",
    "\\int_{0}^{htan\\alpha} \\sigma_{xx}dy = -\\frac{1}{2}h\\hspace{0.1cm}htan\\alpha \\hspace{0.1cm} \\rho_c g =-\\frac{1}{2}\\rho_c gh^2tan\\alpha \\hspace{0.5cm} ; \\hspace{0.5cm} at x = h \\\\[0.5cm] \n",
    "\\int_{0}^{htan\\alpha} \\sigma_{xy}dy =-\\int_{0}^{h} \\rho g x dx = -\\frac{1}{2}\\rho gh^2 \\hspace{0.5cm} ; \\hspace{0.5cm} at x = h \\\\[0.5cm]\n",
    "\\end{align*}\n",
    "Where $\\rho_c$ is the density of the concrete.\n",
    "\n"
   ]
  },
  {
   "cell_type": "code",
   "execution_count": 11,
   "metadata": {},
   "outputs": [],
   "source": [
    "t1 = sigma_xx.subs(x,h)\n",
    "t2 = sigma_xy.subs(x,h)"
   ]
  },
  {
   "cell_type": "code",
   "execution_count": 12,
   "metadata": {},
   "outputs": [
    {
     "data": {
      "text/latex": [
       "$\\displaystyle 3 B h^{2} \\tan^{2}{\\left(\\alpha \\right)} + h \\left(2 D h - g h \\rho_{c}\\right) \\tan{\\left(\\alpha \\right)} = - \\frac{g h^{2} \\rho_{c} \\tan{\\left(\\alpha \\right)}}{2}$"
      ],
      "text/plain": [
       "Eq(3*B*h**2*tan(alpha)**2 + h*(2*D*h - g*h*rho_c)*tan(alpha), -g*h**2*rho_c*tan(alpha)/2)"
      ]
     },
     "metadata": {},
     "output_type": "display_data"
    },
    {
     "data": {
      "text/latex": [
       "$\\displaystyle - 2 C h^{2} \\tan{\\left(\\alpha \\right)} - D h^{2} \\tan^{2}{\\left(\\alpha \\right)} = - \\frac{g h^{2} \\rho}{2}$"
      ],
      "text/plain": [
       "Eq(-2*C*h**2*tan(alpha) - D*h**2*tan(alpha)**2, -g*h**2*rho/2)"
      ]
     },
     "metadata": {},
     "output_type": "display_data"
    }
   ],
   "source": [
    "lhs3 = sym.integrate(t1,(y,0,h*sym.tan(alpha)))                  \n",
    "rhs3 = -rhoc*g*sym.tan(alpha)*h**2/2\n",
    "bc3 = sym.Eq(lhs3,rhs3)\n",
    "\n",
    "\n",
    "lhs4 =  sym.integrate(t2,(y,0,h*sym.tan(alpha))) \n",
    "rhs4 = -rho*g*h**2/2\n",
    "bc4 = sym.Eq(lhs4,rhs4)\n",
    "display(bc3,bc4)"
   ]
  },
  {
   "cell_type": "markdown",
   "metadata": {},
   "source": [
    "To find out the boundary condition due to bending moment we will define a new axis called $\\bar{y}$ as shown in the figure. \n",
    "### insert the new figure showing $\\bar{y}$  here"
   ]
  },
  {
   "cell_type": "markdown",
   "metadata": {},
   "source": [
    "\n",
    "Then taking moment about the point $O$,\n",
    "\\begin{align*}\n",
    "\\int_{-\\frac{htan\\alpha}{3}}^{\\frac{2htan\\alpha}{3}}\\sigma_{xx}\\bar{y}d\\bar{y} =-\\frac{1}{2}(\\rho gh)h \\hspace{0.1cm} \\frac{h}{3}\\\\[0.5cm] \n",
    "\\end{align*}\n",
    "\n",
    "Now we will convert $\\bar{y}$ to y by shifting the axis\n",
    "\\begin{align*}\n",
    "\\hspace{1cm} y =  \\bar{y} + \\frac{h}{3}tan\\alpha \\hspace{2cm} \\implies dy = d\\bar{y}\\\\[0.5cm]\n",
    "\\end{align*}\n",
    "So,\n",
    "\\begin{align*}\n",
    "\\bar{y}=-\\frac{h}{3}tan\\alpha \\hspace{2cm}\\implies y=0\\\\[0.5cm]\n",
    "\\bar{y}=\\frac{2h}{3}tan\\alpha\\hspace{2cm}\\implies y = htan\\alpha\\\\[0.5cm]\n",
    "\\end{align*}\n",
    "\n",
    "Therefore our bending moment in terms of y is given by,<br>\n",
    "\\begin{align*}\n",
    "\\int_{0}^{htan\\alpha}\\sigma_{xx}(y-\\frac{h}{3}tan\\alpha)dy =-\\frac{\\rho gh^3}{6} \n",
    "\\end{align*}\n"
   ]
  },
  {
   "cell_type": "code",
   "execution_count": 13,
   "metadata": {},
   "outputs": [
    {
     "data": {
      "text/latex": [
       "$\\displaystyle 2 B h^{3} \\tan^{3}{\\left(\\alpha \\right)} + h^{2} \\left(- B h \\tan{\\left(\\alpha \\right)} + D h - \\frac{g h \\rho_{c}}{2}\\right) \\tan^{2}{\\left(\\alpha \\right)} + h \\left(- \\frac{2 D h^{2} \\tan{\\left(\\alpha \\right)}}{3} + \\frac{g h^{2} \\rho_{c} \\tan{\\left(\\alpha \\right)}}{3}\\right) \\tan{\\left(\\alpha \\right)} = - \\frac{g h^{3} \\rho}{6}$"
      ],
      "text/plain": [
       "Eq(2*B*h**3*tan(alpha)**3 + h**2*(-B*h*tan(alpha) + D*h - g*h*rho_c/2)*tan(alpha)**2 + h*(-2*D*h**2*tan(alpha)/3 + g*h**2*rho_c*tan(alpha)/3)*tan(alpha), -g*h**3*rho/6)"
      ]
     },
     "metadata": {},
     "output_type": "display_data"
    }
   ],
   "source": [
    "ybar = (y-((h/3)*sym.tan(alpha)))\n",
    "lhs5 = sym.integrate(t1*(ybar),(y,0,h*sym.tan(alpha)))             \n",
    "rhs5  = -(rho*g*h**3)/6\n",
    "bc5 = sym.Eq(lhs5,rhs5)\n",
    "display(bc5)"
   ]
  },
  {
   "cell_type": "markdown",
   "metadata": {},
   "source": [
    "Now we will solve these boundary conditions to get the value of the constants $A,B,C,D$"
   ]
  },
  {
   "cell_type": "code",
   "execution_count": 14,
   "metadata": {},
   "outputs": [
    {
     "data": {
      "text/latex": [
       "$\\displaystyle A = \\frac{g \\left(- \\rho + \\rho_{c}\\right)}{6}$"
      ],
      "text/plain": [
       "<IPython.core.display.Math object>"
      ]
     },
     "metadata": {},
     "output_type": "display_data"
    },
    {
     "data": {
      "text/latex": [
       "$\\displaystyle B =  \\frac{g \\left(- \\frac{2 \\rho}{\\tan^{2}{\\left(\\alpha \\right)}} + \\rho_{c}\\right)}{6 \\tan{\\left(\\alpha \\right)}}$"
      ],
      "text/plain": [
       "<IPython.core.display.Math object>"
      ]
     },
     "metadata": {},
     "output_type": "display_data"
    },
    {
     "data": {
      "text/latex": [
       "$\\displaystyle C = 0$"
      ],
      "text/plain": [
       "<IPython.core.display.Math object>"
      ]
     },
     "metadata": {},
     "output_type": "display_data"
    },
    {
     "data": {
      "text/latex": [
       "$\\displaystyle D = \\frac{g \\rho}{2 \\tan^{2}{\\left(\\alpha \\right)}}$"
      ],
      "text/plain": [
       "<IPython.core.display.Math object>"
      ]
     },
     "metadata": {},
     "output_type": "display_data"
    }
   ],
   "source": [
    "\n",
    "soln, = sym.linsolve([bc1,bc2,bc3,bc4,bc5],[A,B,C,D])\n",
    "A_soln = soln[0]\n",
    "B_soln = soln[1]\n",
    "C_soln = soln[2]\n",
    "D_soln = soln[3]\n",
    "\n",
    "\n",
    "display(Math(r'A = {}'.format(sym.latex(A_soln))))\n",
    "display(Math(r'B =  {}'.format(sym.latex(B_soln))))\n",
    "display(Math(r'C = {}'.format(sym.latex(C_soln))))\n",
    "display(Math(r'D = {}'.format(sym.latex(D_soln)))) \n"
   ]
  },
  {
   "cell_type": "markdown",
   "metadata": {},
   "source": [
    "\n",
    "Equation of the inclined face is given by $y=xtan\\alpha$.\n",
    "So the expresson for stresses will be given by substituting this in corresponding stress equations.\n"
   ]
  },
  {
   "cell_type": "code",
   "execution_count": 15,
   "metadata": {},
   "outputs": [],
   "source": [
    "t3 = sigma_xx.subs(y,x*sym.tan(alpha)).simplify()\n",
    "t4 = sigma_xy.subs(y,x*sym.tan(alpha)).simplify()\n",
    "t5 = sigma_yy.subs(y,x*sym.tan(alpha)).simplify()"
   ]
  },
  {
   "cell_type": "markdown",
   "metadata": {},
   "source": [
    "Next we will obtain the tractions on the inclined face and check whether they are giving zero value.<br>\n",
    "We have, \n",
    "\\begin{align*}\n",
    "[\\,\\textbf{T}]\\,=[\\,\\mathbf{\\sigma}]\\,[\\,\\textbf{$\\hat{n}$}]\\,\n",
    "\\end{align*}\n",
    "Where ,$\\hspace{1cm}$ $\\hat{n}$ =-sin$\\alpha\\hat{e_x}$ +cos$\\alpha\\hat{e_y}$<br>\n",
    "We have,\n",
    "\\begin{align*}\n",
    "[\\,\\textbf{T}]\\,=\\begin{bmatrix}T_x\\\\T_y\\\\T_z\\end{bmatrix}\n",
    "\\end{align*}\n",
    "\\begin{align*}\\hspace{1.8cm}[\\,\\mathbf{\\sigma}]\\,=\\begin{bmatrix}\\sigma_{xx}&\\sigma_{xy}&0\\\\\\sigma_{xy}&\\sigma_{yy}&0\\\\0&0&\\sigma_{zz}\\end{bmatrix}\n",
    "\\end{align*}\n",
    "\\begin{align*}\n",
    "[\\,\\textbf{$\\hat{n}$}]=\\begin{bmatrix}-sin\\alpha\\\\cos\\alpha\\\\0\\end{bmatrix}\n",
    "\\end{align*}\n",
    "Therefore after multiplication we will obtain,<br>\n",
    "\\begin{align*}\n",
    "T_x = -\\sigma_{xx}sin\\alpha+\\sigma_{xy}cos\\alpha\\\\\n",
    "T_y = -\\sigma_{xy}sin\\alpha+\\sigma_{yy}cos\\alpha\\\\\n",
    "\\end{align*}\n",
    "$\\hspace{10.7cm}T_z = 0$\n"
   ]
  },
  {
   "cell_type": "code",
   "execution_count": 16,
   "metadata": {},
   "outputs": [
    {
     "data": {
      "text/latex": [
       "$\\displaystyle 2 x \\left(C + D \\tan{\\left(\\alpha \\right)}\\right) \\sin{\\left(\\alpha \\right)} - 2 x \\left(C + D \\tan{\\left(\\alpha \\right)}\\right) \\cos{\\left(\\alpha \\right)} = 0$"
      ],
      "text/plain": [
       "Eq(2*x*(C + D*tan(alpha))*sin(alpha) - 2*x*(C + D*tan(alpha))*cos(alpha), 0)"
      ]
     },
     "metadata": {},
     "output_type": "display_data"
    },
    {
     "data": {
      "text/latex": [
       "$\\displaystyle - x \\left(6 A + 2 C \\tan{\\left(\\alpha \\right)} - g \\rho_{c}\\right) \\sin{\\left(\\alpha \\right)} + x \\left(6 A + 2 C \\tan{\\left(\\alpha \\right)} - g \\rho_{c}\\right) \\cos{\\left(\\alpha \\right)} = 0$"
      ],
      "text/plain": [
       "Eq(-x*(6*A + 2*C*tan(alpha) - g*rho_c)*sin(alpha) + x*(6*A + 2*C*tan(alpha) - g*rho_c)*cos(alpha), 0)"
      ]
     },
     "metadata": {},
     "output_type": "display_data"
    }
   ],
   "source": [
    "bc_6 = t4*sym.cos(alpha) - t4*sym.sin(alpha)\n",
    "bc6 = sym.Eq(bc_6,0)\n",
    "bc_7 = t5*sym.cos(alpha) - t5*sym.sin(alpha)\n",
    "bc7 = sym.Eq(bc_7,0)\n",
    "\n",
    "display(bc6,bc7)"
   ]
  },
  {
   "cell_type": "markdown",
   "metadata": {},
   "source": [
    "The coefficient of $x$ of the above equations must be 0 in order to have zero tractions on the inclined face.\\\n",
    "We check this by substituting the value of constants $A,B,C,D$ in the above equation."
   ]
  },
  {
   "cell_type": "code",
   "execution_count": 17,
   "metadata": {},
   "outputs": [
    {
     "data": {
      "text/latex": [
       "$\\displaystyle \\left(2 C + 2 D \\tan{\\left(\\alpha \\right)}\\right) \\cos{\\left(\\alpha \\right)} + \\left(6 B \\tan{\\left(\\alpha \\right)} + 2 D - g \\rho_{c}\\right) \\sin{\\left(\\alpha \\right)}$"
      ],
      "text/plain": [
       "(2*C + 2*D*tan(alpha))*cos(alpha) + (6*B*tan(alpha) + 2*D - g*rho_c)*sin(alpha)"
      ]
     },
     "metadata": {},
     "output_type": "display_data"
    },
    {
     "data": {
      "text/latex": [
       "$\\displaystyle \\left(2 C + 2 D \\tan{\\left(\\alpha \\right)}\\right) \\sin{\\left(\\alpha \\right)} + \\left(6 A + 2 C \\tan{\\left(\\alpha \\right)} - g \\rho_{c}\\right) \\cos{\\left(\\alpha \\right)}$"
      ],
      "text/plain": [
       "(2*C + 2*D*tan(alpha))*sin(alpha) + (6*A + 2*C*tan(alpha) - g*rho_c)*cos(alpha)"
      ]
     },
     "metadata": {},
     "output_type": "display_data"
    },
    {
     "data": {
      "text/latex": [
       "$\\displaystyle 0$"
      ],
      "text/plain": [
       "0"
      ]
     },
     "metadata": {},
     "output_type": "display_data"
    },
    {
     "data": {
      "text/latex": [
       "$\\displaystyle 0$"
      ],
      "text/plain": [
       "0"
      ]
     },
     "metadata": {},
     "output_type": "display_data"
    }
   ],
   "source": [
    "t6 = (2*C +2*D*sym.tan(alpha))*sym.cos(alpha)   + (6*B*sym.tan(alpha) +2*D -rhoc*g)*sym.sin(alpha)\n",
    "t7 = (2*C +2*D*sym.tan(alpha))*sym.sin(alpha)  +  (6*A  + 2*C*sym.tan(alpha) -rhoc*g)*sym.cos(alpha)\n",
    "check1 = t6.subs([(B,B_soln),(C,C_soln),(D,D_soln)]).simplify()\n",
    "check2 = t7.subs([(A,A_soln),(B,B_soln),(C,C_soln),(D,D_soln)]).simplify()\n",
    "\n",
    "display(t6,t7,check1,check2)"
   ]
  },
  {
   "cell_type": "markdown",
   "metadata": {},
   "source": [
    "Thus the traction components on the inclined face are obtained to be zero."
   ]
  },
  {
   "cell_type": "markdown",
   "metadata": {},
   "source": [
    "We can find out the expression for the complete stress field by substituting the values of the constants $A,B,C,D$ in the previously obtained expressions for $\\sigma_{xx}$ , $\\sigma_{yy}$ and $\\sigma_{xy}$,"
   ]
  },
  {
   "cell_type": "code",
   "execution_count": 18,
   "metadata": {},
   "outputs": [
    {
     "data": {
      "text/latex": [
       "$\\displaystyle \\sigma_{xx}^{soln} = g \\left(\\frac{\\rho x}{\\tan^{2}{\\left(\\alpha \\right)}} - \\frac{2 \\rho y}{\\tan^{3}{\\left(\\alpha \\right)}} - \\rho_{c} x + \\frac{\\rho_{c} y}{\\tan{\\left(\\alpha \\right)}}\\right)$"
      ],
      "text/plain": [
       "<IPython.core.display.Math object>"
      ]
     },
     "metadata": {},
     "output_type": "display_data"
    },
    {
     "data": {
      "text/latex": [
       "$\\displaystyle \\sigma_{yy}^{soln} = - g \\rho x$"
      ],
      "text/plain": [
       "<IPython.core.display.Math object>"
      ]
     },
     "metadata": {},
     "output_type": "display_data"
    },
    {
     "data": {
      "text/latex": [
       "$\\displaystyle \\sigma_{xy}^{soln} = - \\frac{g \\rho y}{\\tan^{2}{\\left(\\alpha \\right)}}$"
      ],
      "text/plain": [
       "<IPython.core.display.Math object>"
      ]
     },
     "metadata": {},
     "output_type": "display_data"
    }
   ],
   "source": [
    "sigmaxx_soln = sigma_xx.subs([(A,A_soln),(B,B_soln),(C,C_soln),(D,D_soln)]).simplify()\n",
    "sigmayy_soln = sigma_yy.subs([(A,A_soln),(B,B_soln),(C,C_soln),(D,D_soln)]).simplify()\n",
    "sigmaxy_soln = sigma_xy.subs([(A,A_soln),(B,B_soln),(C,C_soln),(D,D_soln)]).simplify()\n",
    "display(Math(r'\\sigma_{{xx}}^{{soln}} = {}'.format(sym.latex(sigmaxx_soln))))\n",
    "display(Math(r'\\sigma_{{yy}}^{{soln}} = {}'.format(sym.latex(sigmayy_soln))))\n",
    "display(Math(r'\\sigma_{{xy}}^{{soln}} = {}'.format(sym.latex(sigmaxy_soln))))"
   ]
  },
  {
   "cell_type": "code",
   "execution_count": null,
   "metadata": {},
   "outputs": [],
   "source": []
  }
 ],
 "metadata": {
  "kernelspec": {
   "display_name": "Python 3",
   "language": "python",
   "name": "python3"
  },
  "language_info": {
   "codemirror_mode": {
    "name": "ipython",
    "version": 3
   },
   "file_extension": ".py",
   "mimetype": "text/x-python",
   "name": "python",
   "nbconvert_exporter": "python",
   "pygments_lexer": "ipython3",
   "version": "3.8.3"
  }
 },
 "nbformat": 4,
 "nbformat_minor": 4
}
