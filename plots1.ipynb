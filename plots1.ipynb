{
 "cells": [
  {
   "cell_type": "code",
   "execution_count": 1,
   "metadata": {},
   "outputs": [],
   "source": [
    "from polarUtilities import *\n",
    "from IPython.display import Math, Latex"
   ]
  },
  {
   "cell_type": "code",
   "execution_count": 2,
   "metadata": {},
   "outputs": [
    {
     "data": {
      "text/latex": [
       "$\\displaystyle r^{3} f{\\left(\\theta \\right)}$"
      ],
      "text/plain": [
       "r**3*f(theta)"
      ]
     },
     "execution_count": 2,
     "metadata": {},
     "output_type": "execute_result"
    }
   ],
   "source": [
    "\n",
    "f=sym.Function('f')(theta)\n",
    "phi=r**3*f\n",
    "phi"
   ]
  },
  {
   "cell_type": "code",
   "execution_count": 3,
   "metadata": {},
   "outputs": [
    {
     "data": {
      "text/latex": [
       "$\\displaystyle \\frac{9 f{\\left(\\theta \\right)} + 10 \\frac{d^{2}}{d \\theta^{2}} f{\\left(\\theta \\right)} + \\frac{d^{4}}{d \\theta^{4}} f{\\left(\\theta \\right)}}{r}$"
      ],
      "text/plain": [
       "(9*f(theta) + 10*Derivative(f(theta), (theta, 2)) + Derivative(f(theta), (theta, 4)))/r"
      ]
     },
     "execution_count": 3,
     "metadata": {},
     "output_type": "execute_result"
    }
   ],
   "source": [
    "polarbiharmonic(phi)"
   ]
  },
  {
   "cell_type": "code",
   "execution_count": 4,
   "metadata": {},
   "outputs": [
    {
     "data": {
      "text/latex": [
       "$\\displaystyle f{\\left(\\theta \\right)} = C_{1} e^{- 3 i \\theta} + C_{2} e^{- i \\theta} + C_{3} e^{i \\theta} + C_{4} e^{3 i \\theta}$"
      ],
      "text/plain": [
       "Eq(f(theta), C1*exp(-3*I*theta) + C2*exp(-I*theta) + C3*exp(I*theta) + C4*exp(3*I*theta))"
      ]
     },
     "execution_count": 4,
     "metadata": {},
     "output_type": "execute_result"
    }
   ],
   "source": [
    "eq = sym.Eq(polarbiharmonic(phi),0)\n",
    "sym.dsolve(eq)"
   ]
  },
  {
   "cell_type": "code",
   "execution_count": 5,
   "metadata": {},
   "outputs": [
    {
     "data": {
      "text/latex": [
       "$\\displaystyle f(\\theta) = A \\cos^{3}{\\left(\\theta \\right)} + B \\sin^{3}{\\left(\\theta \\right)} + C \\cos{\\left(\\theta \\right)} + D \\sin{\\left(\\theta \\right)}$"
      ],
      "text/plain": [
       "<IPython.core.display.Math object>"
      ]
     },
     "metadata": {},
     "output_type": "display_data"
    }
   ],
   "source": [
    "A, B, C, D = sym.symbols('A, B, C, D')\n",
    "fnew = A*sym.cos(theta)**3 + B*sym.sin(theta)**3 + C*sym.cos(theta) + D*sym.sin(theta)\n",
    "display(Math(r'f(\\theta) = {}'.format(sym.latex(fnew))))"
   ]
  },
  {
   "cell_type": "code",
   "execution_count": 6,
   "metadata": {},
   "outputs": [
    {
     "data": {
      "text/latex": [
       "$\\displaystyle \\phi = r^{3} \\left(A \\cos^{3}{\\left(\\theta \\right)} + B \\sin^{3}{\\left(\\theta \\right)} + C \\cos{\\left(\\theta \\right)} + D \\sin{\\left(\\theta \\right)}\\right)$"
      ],
      "text/plain": [
       "<IPython.core.display.Math object>"
      ]
     },
     "metadata": {},
     "output_type": "display_data"
    }
   ],
   "source": [
    "phi=r**3*(fnew)\n",
    "display(Math(r'\\phi = {}'.format(sym.latex(phi))))"
   ]
  },
  {
   "cell_type": "code",
   "execution_count": 7,
   "metadata": {},
   "outputs": [
    {
     "data": {
      "text/latex": [
       "$\\displaystyle \\sigma_{rr}^\\rm{1} = 2 r \\left(3 A \\sin^{2}{\\left(\\theta \\right)} \\cos{\\left(\\theta \\right)} - 3 B \\sin^{3}{\\left(\\theta \\right)} + 3 B \\sin{\\left(\\theta \\right)} + C \\cos{\\left(\\theta \\right)} + D \\sin{\\left(\\theta \\right)}\\right)$"
      ],
      "text/plain": [
       "<IPython.core.display.Math object>"
      ]
     },
     "metadata": {},
     "output_type": "display_data"
    },
    {
     "data": {
      "text/latex": [
       "$\\displaystyle \\sigma_{\\theta\\theta}^\\rm{1} = 6 r \\left(A \\cos^{3}{\\left(\\theta \\right)} + B \\sin^{3}{\\left(\\theta \\right)} + C \\cos{\\left(\\theta \\right)} + D \\sin{\\left(\\theta \\right)}\\right)$"
      ],
      "text/plain": [
       "<IPython.core.display.Math object>"
      ]
     },
     "metadata": {},
     "output_type": "display_data"
    },
    {
     "data": {
      "text/latex": [
       "$\\displaystyle \\sigma_{r\\theta} = 2 r \\left(- 3 A \\sin^{3}{\\left(\\theta \\right)} + 3 A \\sin{\\left(\\theta \\right)} - 3 B \\sin^{2}{\\left(\\theta \\right)} \\cos{\\left(\\theta \\right)} + C \\sin{\\left(\\theta \\right)} - D \\cos{\\left(\\theta \\right)}\\right)$"
      ],
      "text/plain": [
       "<IPython.core.display.Math object>"
      ]
     },
     "metadata": {},
     "output_type": "display_data"
    }
   ],
   "source": [
    "\n",
    "sigmarr1 = sigma_rr(phi).simplify()\n",
    "sigmatt1 = sigma_tt(phi).simplify()\n",
    "sigmart = sigma_rt(phi).simplify()\n",
    "\n",
    "display(Math(r'\\sigma_{{rr}}^\\rm{{1}} = {}'.format(sym.latex(sigmarr1))))\n",
    "display(Math(r'\\sigma_{{\\theta\\theta}}^\\rm{{1}} = {}'.format(sym.latex(sigmatt1))))\n",
    "display(Math(r'\\sigma_{{r\\theta}} = {}'.format(sym.latex(sigmart))))"
   ]
  },
  {
   "cell_type": "code",
   "execution_count": 8,
   "metadata": {},
   "outputs": [
    {
     "data": {
      "text/latex": [
       "$\\displaystyle - g r \\rho_{c} \\cos{\\left(\\theta \\right)}$"
      ],
      "text/plain": [
       "-g*r*rho_c*cos(theta)"
      ]
     },
     "metadata": {},
     "output_type": "display_data"
    }
   ],
   "source": [
    "rhoc,g=sym.symbols('rho_c,g')\n",
    "V = -rhoc*g*r*sym.cos(theta)\n",
    "display(V)"
   ]
  },
  {
   "cell_type": "code",
   "execution_count": 9,
   "metadata": {},
   "outputs": [
    {
     "data": {
      "text/latex": [
       "$\\displaystyle \\sigma_{rr} = - g r \\rho_{c} \\cos{\\left(\\theta \\right)} + 2 r \\left(3 A \\sin^{2}{\\left(\\theta \\right)} \\cos{\\left(\\theta \\right)} - 3 B \\sin^{3}{\\left(\\theta \\right)} + 3 B \\sin{\\left(\\theta \\right)} + C \\cos{\\left(\\theta \\right)} + D \\sin{\\left(\\theta \\right)}\\right)$"
      ],
      "text/plain": [
       "<IPython.core.display.Math object>"
      ]
     },
     "metadata": {},
     "output_type": "display_data"
    },
    {
     "data": {
      "text/latex": [
       "$\\displaystyle \\sigma_{\\theta\\theta} = - g r \\rho_{c} \\cos{\\left(\\theta \\right)} + 6 r \\left(A \\cos^{3}{\\left(\\theta \\right)} + B \\sin^{3}{\\left(\\theta \\right)} + C \\cos{\\left(\\theta \\right)} + D \\sin{\\left(\\theta \\right)}\\right)$"
      ],
      "text/plain": [
       "<IPython.core.display.Math object>"
      ]
     },
     "metadata": {},
     "output_type": "display_data"
    },
    {
     "data": {
      "text/latex": [
       "$\\displaystyle \\sigma_{r\\theta} = 2 r \\left(- 3 A \\sin^{3}{\\left(\\theta \\right)} + 3 A \\sin{\\left(\\theta \\right)} - 3 B \\sin^{2}{\\left(\\theta \\right)} \\cos{\\left(\\theta \\right)} + C \\sin{\\left(\\theta \\right)} - D \\cos{\\left(\\theta \\right)}\\right)$"
      ],
      "text/plain": [
       "<IPython.core.display.Math object>"
      ]
     },
     "metadata": {},
     "output_type": "display_data"
    }
   ],
   "source": [
    "sigmarr=sigmarr1+V\n",
    "sigmatt=sigmatt1+V\n",
    "display(Math(r'\\sigma_{{rr}} = {}'.format(sym.latex(sigmarr))))\n",
    "display(Math(r'\\sigma_{{\\theta\\theta}} = {}'.format(sym.latex(sigmatt))))\n",
    "display(Math(r'\\sigma_{{r\\theta}} = {}'.format(sym.latex(sigmart))))"
   ]
  },
  {
   "cell_type": "code",
   "execution_count": 10,
   "metadata": {},
   "outputs": [],
   "source": [
    "rho,alpha = sym.symbols('rho,alpha')"
   ]
  },
  {
   "cell_type": "code",
   "execution_count": 11,
   "metadata": {},
   "outputs": [
    {
     "data": {
      "text/latex": [
       "$\\displaystyle D = 0$"
      ],
      "text/plain": [
       "Eq(D, 0)"
      ]
     },
     "metadata": {},
     "output_type": "display_data"
    },
    {
     "data": {
      "text/latex": [
       "$\\displaystyle g \\rho = - 6 A - 6 C + g \\rho_{c}$"
      ],
      "text/plain": [
       "Eq(g*rho, -6*A - 6*C + g*rho_c)"
      ]
     },
     "metadata": {},
     "output_type": "display_data"
    },
    {
     "data": {
      "text/latex": [
       "$\\displaystyle 3 A \\sin^{3}{\\left(\\alpha \\right)} - 3 A \\sin{\\left(\\alpha \\right)} + 3 B \\sin^{2}{\\left(\\alpha \\right)} \\cos{\\left(\\alpha \\right)} - C \\sin{\\left(\\alpha \\right)} + D \\cos{\\left(\\alpha \\right)} = 0$"
      ],
      "text/plain": [
       "Eq(3*A*sin(alpha)**3 - 3*A*sin(alpha) + 3*B*sin(alpha)**2*cos(alpha) - C*sin(alpha) + D*cos(alpha), 0)"
      ]
     },
     "metadata": {},
     "output_type": "display_data"
    },
    {
     "data": {
      "text/latex": [
       "$\\displaystyle 6 A \\cos^{3}{\\left(\\alpha \\right)} + 6 B \\sin^{3}{\\left(\\alpha \\right)} + 6 C \\cos{\\left(\\alpha \\right)} + 6 D \\sin{\\left(\\alpha \\right)} - g \\rho_{c} \\cos{\\left(\\alpha \\right)} = 0$"
      ],
      "text/plain": [
       "Eq(6*A*cos(alpha)**3 + 6*B*sin(alpha)**3 + 6*C*cos(alpha) + 6*D*sin(alpha) - g*rho_c*cos(alpha), 0)"
      ]
     },
     "metadata": {},
     "output_type": "display_data"
    }
   ],
   "source": [
    "lhs1=(sigmart.subs(theta,0))*(1/(2*r))\n",
    "rhs1=0\n",
    "eq1=sym.Eq(lhs1,rhs1).simplify()\n",
    "display(eq1)\n",
    "\n",
    "lhs2=(sigmatt.subs(theta,0))*1/r\n",
    "rhs2=-rho*g*r*1/r\n",
    "eq2=sym.Eq(lhs2,rhs2).simplify()\n",
    "display(eq2)\n",
    "\n",
    "lhs3 = (sigmart.subs(theta,alpha))*(1/(2*r))\n",
    "rhs3 = 0\n",
    "eq3 = sym.Eq(lhs3,rhs3).expand().simplify()\n",
    "display(eq3)\n",
    "\n",
    "lhs4 = (sigmatt.subs(theta,alpha))*(1/r)\n",
    "rhs4 = 0\n",
    "eq4 = sym.Eq(lhs4,rhs4).simplify()\n",
    "display(eq4)"
   ]
  },
  {
   "cell_type": "code",
   "execution_count": 12,
   "metadata": {},
   "outputs": [
    {
     "data": {
      "text/latex": [
       "$\\displaystyle \\frac{g \\left(- \\rho - \\frac{3 \\rho}{\\tan^{2}{\\left(\\alpha \\right)}} + \\rho_{c}\\right)}{6}$"
      ],
      "text/plain": [
       "g*(-rho - 3*rho/tan(alpha)**2 + rho_c)/6"
      ]
     },
     "metadata": {},
     "output_type": "display_data"
    },
    {
     "data": {
      "text/latex": [
       "$\\displaystyle \\frac{g \\left(\\frac{2 \\rho}{\\tan{\\left(\\alpha \\right)}} - \\frac{2 \\rho \\cos{\\left(\\alpha \\right)}}{\\sin^{3}{\\left(\\alpha \\right)}} + \\frac{\\rho_{c}}{\\tan{\\left(\\alpha \\right)}}\\right)}{6}$"
      ],
      "text/plain": [
       "g*(2*rho/tan(alpha) - 2*rho*cos(alpha)/sin(alpha)**3 + rho_c/tan(alpha))/6"
      ]
     },
     "metadata": {},
     "output_type": "display_data"
    },
    {
     "data": {
      "text/latex": [
       "$\\displaystyle \\frac{g \\rho}{2 \\tan^{2}{\\left(\\alpha \\right)}}$"
      ],
      "text/plain": [
       "g*rho/(2*tan(alpha)**2)"
      ]
     },
     "metadata": {},
     "output_type": "display_data"
    },
    {
     "data": {
      "text/latex": [
       "$\\displaystyle 0$"
      ],
      "text/plain": [
       "0"
      ]
     },
     "metadata": {},
     "output_type": "display_data"
    }
   ],
   "source": [
    "\n",
    "soln, = sym.linsolve([eq1,eq2,eq3,eq4],(A,B,C,D))\n",
    "Asoln = soln[0]\n",
    "Bsoln = soln[1]\n",
    "Csoln = soln[2]\n",
    "Dsoln = soln[3]\n",
    "display(Asoln,Bsoln,Csoln,Dsoln)"
   ]
  },
  {
   "cell_type": "code",
   "execution_count": 13,
   "metadata": {},
   "outputs": [
    {
     "data": {
      "text/latex": [
       "$\\displaystyle 2 C - g \\rho_{c} = 0$"
      ],
      "text/plain": [
       "Eq(2*C - g*rho_c, 0)"
      ]
     },
     "metadata": {},
     "output_type": "display_data"
    }
   ],
   "source": [
    "\n",
    "lhs=(sigmarr.subs(theta,0))*(1/r)\n",
    "rhs=0\n",
    "eq=sym.Eq(lhs,rhs).simplify()\n",
    "display(eq)"
   ]
  },
  {
   "cell_type": "code",
   "execution_count": 14,
   "metadata": {},
   "outputs": [
    {
     "data": {
      "text/latex": [
       "$\\displaystyle g \\left(\\frac{\\rho}{\\tan^{2}{\\left(\\alpha \\right)}} - \\rho_{c}\\right) = 0$"
      ],
      "text/plain": [
       "Eq(g*(rho/tan(alpha)**2 - rho_c), 0)"
      ]
     },
     "metadata": {},
     "output_type": "display_data"
    }
   ],
   "source": [
    "eq5=eq.subs([(A,Asoln),(C,Csoln)]).simplify()\n",
    "display(eq5)"
   ]
  },
  {
   "cell_type": "code",
   "execution_count": 15,
   "metadata": {},
   "outputs": [
    {
     "data": {
      "text/latex": [
       "$\\displaystyle 22.563 - \\frac{9.81}{\\tan^{2}{\\left(\\alpha \\right)}} = 0$"
      ],
      "text/plain": [
       "Eq(22.563 - 9.81/tan(alpha)**2, 0)"
      ]
     },
     "metadata": {},
     "output_type": "display_data"
    }
   ],
   "source": [
    "eq6=eq5.subs([(g,9.81),(rho,1),(rhoc,2.3)]).expand().simplify()\n",
    "display(eq6)"
   ]
  },
  {
   "cell_type": "code",
   "execution_count": 16,
   "metadata": {},
   "outputs": [],
   "source": [
    "from sympy.solvers import solve"
   ]
  },
  {
   "cell_type": "code",
   "execution_count": 17,
   "metadata": {},
   "outputs": [],
   "source": [
    "sol = solve(eq6,alpha)"
   ]
  },
  {
   "cell_type": "code",
   "execution_count": 18,
   "metadata": {},
   "outputs": [
    {
     "data": {
      "text/latex": [
       "$\\displaystyle 33.4000784085467$"
      ],
      "text/plain": [
       "33.4000784085467"
      ]
     },
     "metadata": {},
     "output_type": "display_data"
    }
   ],
   "source": [
    "alphadeg = (sol[1]*180/sym.pi).evalf()\n",
    "display(alphadeg)"
   ]
  },
  {
   "cell_type": "code",
   "execution_count": 19,
   "metadata": {},
   "outputs": [
    {
     "data": {
      "text/latex": [
       "$\\displaystyle - g r \\rho_{c} \\cos{\\left(\\theta \\right)} + 3 r \\left(A \\cos^{3}{\\left(\\theta \\right)} + B \\sin^{3}{\\left(\\theta \\right)} + C \\cos{\\left(\\theta \\right)} + D \\sin{\\left(\\theta \\right)}\\right) + r \\left(3 A \\sin^{2}{\\left(\\theta \\right)} \\cos{\\left(\\theta \\right)} - 3 B \\sin^{3}{\\left(\\theta \\right)} + 3 B \\sin{\\left(\\theta \\right)} + C \\cos{\\left(\\theta \\right)} + D \\sin{\\left(\\theta \\right)}\\right) + \\left(4 r^{2} \\left(- 3 A \\sin^{3}{\\left(\\theta \\right)} + 3 A \\sin{\\left(\\theta \\right)} - 3 B \\sin^{2}{\\left(\\theta \\right)} \\cos{\\left(\\theta \\right)} + C \\sin{\\left(\\theta \\right)} - D \\cos{\\left(\\theta \\right)}\\right)^{2} + \\left(- g r \\rho_{c} \\cos{\\left(\\theta \\right)} + 3 r \\left(A \\cos^{3}{\\left(\\theta \\right)} + B \\sin^{3}{\\left(\\theta \\right)} + C \\cos{\\left(\\theta \\right)} + D \\sin{\\left(\\theta \\right)}\\right) + r \\left(3 A \\sin^{2}{\\left(\\theta \\right)} \\cos{\\left(\\theta \\right)} - 3 B \\sin^{3}{\\left(\\theta \\right)} + 3 B \\sin{\\left(\\theta \\right)} + C \\cos{\\left(\\theta \\right)} + D \\sin{\\left(\\theta \\right)}\\right)\\right)^{2}\\right)^{0.5}$"
      ],
      "text/plain": [
       "-g*r*rho_c*cos(theta) + 3*r*(A*cos(theta)**3 + B*sin(theta)**3 + C*cos(theta) + D*sin(theta)) + r*(3*A*sin(theta)**2*cos(theta) - 3*B*sin(theta)**3 + 3*B*sin(theta) + C*cos(theta) + D*sin(theta)) + (4*r**2*(-3*A*sin(theta)**3 + 3*A*sin(theta) - 3*B*sin(theta)**2*cos(theta) + C*sin(theta) - D*cos(theta))**2 + (-g*r*rho_c*cos(theta) + 3*r*(A*cos(theta)**3 + B*sin(theta)**3 + C*cos(theta) + D*sin(theta)) + r*(3*A*sin(theta)**2*cos(theta) - 3*B*sin(theta)**3 + 3*B*sin(theta) + C*cos(theta) + D*sin(theta)))**2)**0.5"
      ]
     },
     "execution_count": 19,
     "metadata": {},
     "output_type": "execute_result"
    }
   ],
   "source": [
    "sigma_max1= ((sigmarr+sigmatt)/2)+(((sigmarr+sigmatt)/2)**2+sigmart**2)**0.5\n",
    "sigma_max1"
   ]
  },
  {
   "cell_type": "code",
   "execution_count": 20,
   "metadata": {},
   "outputs": [
    {
     "data": {
      "text/latex": [
       "$\\displaystyle - g r \\rho_{c} \\cos{\\left(\\theta \\right)} + 3 r \\left(\\frac{g \\rho \\cos{\\left(\\theta \\right)}}{2 \\tan^{2}{\\left(\\alpha \\right)}} + \\frac{g \\left(- \\rho - \\frac{3 \\rho}{\\tan^{2}{\\left(\\alpha \\right)}} + \\rho_{c}\\right) \\cos^{3}{\\left(\\theta \\right)}}{6} + \\frac{g \\left(\\frac{2 \\rho}{\\tan{\\left(\\alpha \\right)}} - \\frac{2 \\rho \\cos{\\left(\\alpha \\right)}}{\\sin^{3}{\\left(\\alpha \\right)}} + \\frac{\\rho_{c}}{\\tan{\\left(\\alpha \\right)}}\\right) \\sin^{3}{\\left(\\theta \\right)}}{6}\\right) + r \\left(\\frac{g \\rho \\cos{\\left(\\theta \\right)}}{2 \\tan^{2}{\\left(\\alpha \\right)}} + \\frac{g \\left(- \\rho - \\frac{3 \\rho}{\\tan^{2}{\\left(\\alpha \\right)}} + \\rho_{c}\\right) \\sin^{2}{\\left(\\theta \\right)} \\cos{\\left(\\theta \\right)}}{2} - \\frac{g \\left(\\frac{2 \\rho}{\\tan{\\left(\\alpha \\right)}} - \\frac{2 \\rho \\cos{\\left(\\alpha \\right)}}{\\sin^{3}{\\left(\\alpha \\right)}} + \\frac{\\rho_{c}}{\\tan{\\left(\\alpha \\right)}}\\right) \\sin^{3}{\\left(\\theta \\right)}}{2} + \\frac{g \\left(\\frac{2 \\rho}{\\tan{\\left(\\alpha \\right)}} - \\frac{2 \\rho \\cos{\\left(\\alpha \\right)}}{\\sin^{3}{\\left(\\alpha \\right)}} + \\frac{\\rho_{c}}{\\tan{\\left(\\alpha \\right)}}\\right) \\sin{\\left(\\theta \\right)}}{2}\\right) + \\left(4 r^{2} \\left(\\frac{g \\rho \\sin{\\left(\\theta \\right)}}{2 \\tan^{2}{\\left(\\alpha \\right)}} - \\frac{g \\left(- \\rho - \\frac{3 \\rho}{\\tan^{2}{\\left(\\alpha \\right)}} + \\rho_{c}\\right) \\sin^{3}{\\left(\\theta \\right)}}{2} + \\frac{g \\left(- \\rho - \\frac{3 \\rho}{\\tan^{2}{\\left(\\alpha \\right)}} + \\rho_{c}\\right) \\sin{\\left(\\theta \\right)}}{2} - \\frac{g \\left(\\frac{2 \\rho}{\\tan{\\left(\\alpha \\right)}} - \\frac{2 \\rho \\cos{\\left(\\alpha \\right)}}{\\sin^{3}{\\left(\\alpha \\right)}} + \\frac{\\rho_{c}}{\\tan{\\left(\\alpha \\right)}}\\right) \\sin^{2}{\\left(\\theta \\right)} \\cos{\\left(\\theta \\right)}}{2}\\right)^{2} + \\left(- g r \\rho_{c} \\cos{\\left(\\theta \\right)} + 3 r \\left(\\frac{g \\rho \\cos{\\left(\\theta \\right)}}{2 \\tan^{2}{\\left(\\alpha \\right)}} + \\frac{g \\left(- \\rho - \\frac{3 \\rho}{\\tan^{2}{\\left(\\alpha \\right)}} + \\rho_{c}\\right) \\cos^{3}{\\left(\\theta \\right)}}{6} + \\frac{g \\left(\\frac{2 \\rho}{\\tan{\\left(\\alpha \\right)}} - \\frac{2 \\rho \\cos{\\left(\\alpha \\right)}}{\\sin^{3}{\\left(\\alpha \\right)}} + \\frac{\\rho_{c}}{\\tan{\\left(\\alpha \\right)}}\\right) \\sin^{3}{\\left(\\theta \\right)}}{6}\\right) + r \\left(\\frac{g \\rho \\cos{\\left(\\theta \\right)}}{2 \\tan^{2}{\\left(\\alpha \\right)}} + \\frac{g \\left(- \\rho - \\frac{3 \\rho}{\\tan^{2}{\\left(\\alpha \\right)}} + \\rho_{c}\\right) \\sin^{2}{\\left(\\theta \\right)} \\cos{\\left(\\theta \\right)}}{2} - \\frac{g \\left(\\frac{2 \\rho}{\\tan{\\left(\\alpha \\right)}} - \\frac{2 \\rho \\cos{\\left(\\alpha \\right)}}{\\sin^{3}{\\left(\\alpha \\right)}} + \\frac{\\rho_{c}}{\\tan{\\left(\\alpha \\right)}}\\right) \\sin^{3}{\\left(\\theta \\right)}}{2} + \\frac{g \\left(\\frac{2 \\rho}{\\tan{\\left(\\alpha \\right)}} - \\frac{2 \\rho \\cos{\\left(\\alpha \\right)}}{\\sin^{3}{\\left(\\alpha \\right)}} + \\frac{\\rho_{c}}{\\tan{\\left(\\alpha \\right)}}\\right) \\sin{\\left(\\theta \\right)}}{2}\\right)\\right)^{2}\\right)^{0.5}$"
      ],
      "text/plain": [
       "-g*r*rho_c*cos(theta) + 3*r*(g*rho*cos(theta)/(2*tan(alpha)**2) + g*(-rho - 3*rho/tan(alpha)**2 + rho_c)*cos(theta)**3/6 + g*(2*rho/tan(alpha) - 2*rho*cos(alpha)/sin(alpha)**3 + rho_c/tan(alpha))*sin(theta)**3/6) + r*(g*rho*cos(theta)/(2*tan(alpha)**2) + g*(-rho - 3*rho/tan(alpha)**2 + rho_c)*sin(theta)**2*cos(theta)/2 - g*(2*rho/tan(alpha) - 2*rho*cos(alpha)/sin(alpha)**3 + rho_c/tan(alpha))*sin(theta)**3/2 + g*(2*rho/tan(alpha) - 2*rho*cos(alpha)/sin(alpha)**3 + rho_c/tan(alpha))*sin(theta)/2) + (4*r**2*(g*rho*sin(theta)/(2*tan(alpha)**2) - g*(-rho - 3*rho/tan(alpha)**2 + rho_c)*sin(theta)**3/2 + g*(-rho - 3*rho/tan(alpha)**2 + rho_c)*sin(theta)/2 - g*(2*rho/tan(alpha) - 2*rho*cos(alpha)/sin(alpha)**3 + rho_c/tan(alpha))*sin(theta)**2*cos(theta)/2)**2 + (-g*r*rho_c*cos(theta) + 3*r*(g*rho*cos(theta)/(2*tan(alpha)**2) + g*(-rho - 3*rho/tan(alpha)**2 + rho_c)*cos(theta)**3/6 + g*(2*rho/tan(alpha) - 2*rho*cos(alpha)/sin(alpha)**3 + rho_c/tan(alpha))*sin(theta)**3/6) + r*(g*rho*cos(theta)/(2*tan(alpha)**2) + g*(-rho - 3*rho/tan(alpha)**2 + rho_c)*sin(theta)**2*cos(theta)/2 - g*(2*rho/tan(alpha) - 2*rho*cos(alpha)/sin(alpha)**3 + rho_c/tan(alpha))*sin(theta)**3/2 + g*(2*rho/tan(alpha) - 2*rho*cos(alpha)/sin(alpha)**3 + rho_c/tan(alpha))*sin(theta)/2))**2)**0.5"
      ]
     },
     "execution_count": 20,
     "metadata": {},
     "output_type": "execute_result"
    }
   ],
   "source": [
    "sigma_max = sigma_max1.subs([(A,Asoln),(B,Bsoln),(C,Csoln),(D,Dsoln)])\n",
    "sigma_max"
   ]
  },
  {
   "cell_type": "code",
   "execution_count": 21,
   "metadata": {},
   "outputs": [
    {
     "data": {
      "text/latex": [
       "$\\displaystyle 822.101200915618 \\left(- 0.140651786135298 \\left(1 - \\cos{\\left(2 \\theta \\right)}\\right)^{3} + 0.725337116297068 \\left(1 - \\cos{\\left(2 \\theta \\right)}\\right)^{2} \\sin{\\left(2 \\theta \\right)} + 0.121898072730362 \\left(1 - \\cos{\\left(2 \\theta \\right)}\\right)^{2} - \\sin{\\left(2 \\theta \\right)} + 0.459311313962005 \\sin{\\left(4 \\theta \\right)} - 0.915727968909533 \\cos{\\left(2 \\theta \\right)} + 0.923257560494433\\right)^{0.5} - 770.980215590628 \\sin{\\left(\\theta \\right)} - 2.79212228135921 \\cdot 10^{-14} \\sin{\\left(3 \\theta \\right)} + 71.3363677806442 \\cos{\\left(\\theta \\right)} + 2.8421709430404 \\cdot 10^{-14} \\cos{\\left(3 \\theta \\right)}$"
      ],
      "text/plain": [
       "822.101200915618*(-0.140651786135298*(1 - cos(2*theta))**3 + 0.725337116297068*(1 - cos(2*theta))**2*sin(2*theta) + 0.121898072730362*(1 - cos(2*theta))**2 - sin(2*theta) + 0.459311313962005*sin(4*theta) - 0.915727968909533*cos(2*theta) + 0.923257560494433)**0.5 - 770.980215590628*sin(theta) - 2.79212228135921e-14*sin(3*theta) + 71.3363677806442*cos(theta) + 2.8421709430404e-14*cos(3*theta)"
      ]
     },
     "execution_count": 21,
     "metadata": {},
     "output_type": "execute_result"
    }
   ],
   "source": [
    "sigma_max_soln = sigma_max.subs([(g,9.81),(rho,1),(rhoc,2.3),(r,10),(alpha,0.43)]).expand().simplify()\n",
    "sigma_max_soln"
   ]
  },
  {
   "cell_type": "code",
   "execution_count": 22,
   "metadata": {},
   "outputs": [],
   "source": [
    "\n",
    "def stress_pr(angle):\n",
    "    return sigma_max_soln.subs(theta,angle).evalf()\n"
   ]
  },
  {
   "cell_type": "code",
   "execution_count": 23,
   "metadata": {},
   "outputs": [
    {
     "data": {
      "text/plain": [
       "[<matplotlib.lines.Line2D at 0xe6e545e460>]"
      ]
     },
     "execution_count": 23,
     "metadata": {},
     "output_type": "execute_result"
    },
    {
     "data": {
      "image/png": "[encoded data removed]",
      "text/plain": [
       "<Figure size 432x288 with 1 Axes>"
      ]
     },
     "metadata": {
      "needs_background": "light"
     },
     "output_type": "display_data"
    }
   ],
   "source": [
    "import matplotlib.pyplot as plt\n",
    "\n",
    "import numpy as np\n",
    "x=np.arange(0,sym.pi/4,0.05)\n",
    "p=np.vectorize(stress_pr)\n",
    "y=p(x)\n",
    "plt.plot(x,y)\n",
    "\n"
   ]
  },
  {
   "cell_type": "code",
   "execution_count": null,
   "metadata": {},
   "outputs": [],
   "source": []
  },
  {
   "cell_type": "code",
   "execution_count": null,
   "metadata": {},
   "outputs": [],
   "source": [
    "\n"
   ]
  },
  {
   "cell_type": "code",
   "execution_count": null,
   "metadata": {},
   "outputs": [],
   "source": []
  }
 ],
 "metadata": {
  "kernelspec": {
   "display_name": "Python 3",
   "language": "python",
   "name": "python3"
  },
  "language_info": {
   "codemirror_mode": {
    "name": "ipython",
    "version": 3
   },
   "file_extension": ".py",
   "mimetype": "text/x-python",
   "name": "python",
   "nbconvert_exporter": "python",
   "pygments_lexer": "ipython3",
   "version": "3.8.3"
  }
 },
 "nbformat": 4,
 "nbformat_minor": 4
}
