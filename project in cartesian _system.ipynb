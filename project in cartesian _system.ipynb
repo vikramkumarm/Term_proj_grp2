{
 "cells": [
  {
   "cell_type": "code",
   "execution_count": 1,
   "metadata": {},
   "outputs": [],
   "source": [
    "from polarutilities import*\n",
    "from IPython.display import Math, Latex"
   ]
  },
  {
   "cell_type": "code",
   "execution_count": 294,
   "metadata": {},
   "outputs": [
    {
     "data": {
      "text/latex": [
       "$\\displaystyle r^{3} f{\\left(\\theta \\right)}$"
      ],
      "text/plain": [
       "r**3*f(theta)"
      ]
     },
     "execution_count": 294,
     "metadata": {},
     "output_type": "execute_result"
    }
   ],
   "source": [
    "\n",
    "phi_polar = r**3*sym.Function('f')(theta)\n",
    "phi_polar"
   ]
  },
  {
   "cell_type": "code",
   "execution_count": 296,
   "metadata": {},
   "outputs": [
    {
     "data": {
      "text/latex": [
       "$\\displaystyle f{\\left(\\theta \\right)} = C_{1} e^{- 3 i \\theta} + C_{2} e^{- i \\theta} + C_{3} e^{i \\theta} + C_{4} e^{3 i \\theta}$"
      ],
      "text/plain": [
       "Eq(f(theta), C1*exp(-3*I*theta) + C2*exp(-I*theta) + C3*exp(I*theta) + C4*exp(3*I*theta))"
      ]
     },
     "execution_count": 296,
     "metadata": {},
     "output_type": "execute_result"
    }
   ],
   "source": [
    "sym.dsolve(polarbiharmonic(phi_polar)).simplify().expand()"
   ]
  },
  {
   "cell_type": "code",
   "execution_count": 297,
   "metadata": {},
   "outputs": [
    {
     "data": {
      "text/latex": [
       "$\\displaystyle f(\\theta) = A \\cos{\\left(3 \\theta \\right)} + B \\sin{\\left(3 \\theta \\right)} + C \\cos{\\left(\\theta \\right)} + D \\sin{\\left(\\theta \\right)}$"
      ],
      "text/plain": [
       "<IPython.core.display.Math object>"
      ]
     },
     "metadata": {},
     "output_type": "display_data"
    }
   ],
   "source": [
    "A, B, C, D ,x,y, rho,rhow,g , h , alpha,E = sym.symbols('A, B, C, D,x,y,rho,rho_w,g ,h , alpha,E')\n",
    "fnew = A*sym.cos(3*theta) + B*sym.sin(3*theta) + C*sym.cos(theta) + D*sym.sin(theta)\n",
    "display(Math(r'f(\\theta) = {}'.format(sym.latex(fnew))))\n"
   ]
  },
  {
   "cell_type": "code",
   "execution_count": 300,
   "metadata": {},
   "outputs": [],
   "source": [
    "##phi_Polar=r**3*fnew\n",
    "##display(Math(r'\\phi = {}'.format(sym.latex(phi_polar))))"
   ]
  },
  {
   "cell_type": "code",
   "execution_count": 306,
   "metadata": {},
   "outputs": [
    {
     "data": {
      "text/latex": [
       "$\\displaystyle \\phi{(r,\\theta)} = r^{3} \\left(A \\cos^{3}{\\left(\\theta \\right)} + B \\sin^{3}{\\left(\\theta \\right)} + C \\cos{\\left(\\theta \\right)} + D \\sin{\\left(\\theta \\right)}\\right)$"
      ],
      "text/plain": [
       "<IPython.core.display.Math object>"
      ]
     },
     "metadata": {},
     "output_type": "display_data"
    }
   ],
   "source": [
    "phi_polarr=r**3*(A*sym.cos(theta)**3 + B*sym.sin(theta)**3 + C*sym.cos(theta) + D*sym.sin(theta))\n",
    "display(Math(r'\\phi{{(r,\\theta)}} = {}'.format(sym.latex(phi_polarr))))"
   ]
  },
  {
   "cell_type": "markdown",
   "metadata": {},
   "source": [
    ".\n",
    "\n",
    "\n",
    "\n",
    "Converting airy stress function from $polar$ to $cartesian$ co-rdinate system\n",
    "\n",
    "\n",
    "."
   ]
  },
  {
   "cell_type": "code",
   "execution_count": 303,
   "metadata": {},
   "outputs": [
    {
     "data": {
      "text/latex": [
       "$\\displaystyle \\frac{x^{5} \\left(\\frac{x^{2} + y^{2}}{x^{2}}\\right)^{\\frac{5}{2}} \\left(A x^{3} + B y^{3} + C x \\left(x^{2} + y^{2}\\right) + D y \\left(x^{2} + y^{2}\\right)\\right)}{\\left(x^{2} + y^{2}\\right)^{2.5}}$"
      ],
      "text/plain": [
       "x**5*((x**2 + y**2)/x**2)**(5/2)*(x**2 + y**2)**(-2.5)*(A*x**3 + B*y**3 + C*x*(x**2 + y**2) + D*y*(x**2 + y**2))"
      ]
     },
     "execution_count": 303,
     "metadata": {},
     "output_type": "execute_result"
    }
   ],
   "source": [
    "phi_cart=phi1.subs([(r,((x**2+y**2)**0.5)),(theta,(sym.atan(y/x)))]).simplify()\n",
    "phi_cart"
   ]
  },
  {
   "cell_type": "code",
   "execution_count": 305,
   "metadata": {},
   "outputs": [
    {
     "data": {
      "text/latex": [
       "$\\displaystyle \\phi{(x,y)} = A x^{3} + B y^{3} + C x^{2} y + D x y^{2}$"
      ],
      "text/plain": [
       "<IPython.core.display.Math object>"
      ]
     },
     "metadata": {},
     "output_type": "display_data"
    }
   ],
   "source": [
    "phi= A*x**3 + B*y**3 + C*x**2*y  + D*x*y**2\n",
    "display(Math(r'\\phi{{(x,y)}} = {}'.format(sym.latex(phi))))"
   ]
  },
  {
   "cell_type": "code",
   "execution_count": 307,
   "metadata": {},
   "outputs": [
    {
     "data": {
      "text/latex": [
       "$\\displaystyle \\sigma_{xx} = 6 B y + 2 D x - g \\rho x$"
      ],
      "text/plain": [
       "<IPython.core.display.Math object>"
      ]
     },
     "metadata": {},
     "output_type": "display_data"
    },
    {
     "data": {
      "text/latex": [
       "$\\displaystyle \\sigma_{yy} = 6 A x + 2 C y - g \\rho x$"
      ],
      "text/plain": [
       "<IPython.core.display.Math object>"
      ]
     },
     "metadata": {},
     "output_type": "display_data"
    },
    {
     "data": {
      "text/latex": [
       "$\\displaystyle \\sigma_{xy} = - 2 C x - 2 D y$"
      ],
      "text/plain": [
       "<IPython.core.display.Math object>"
      ]
     },
     "metadata": {},
     "output_type": "display_data"
    }
   ],
   "source": [
    "sigma_xx1 = sym.diff(phi,(y,2)).simplify()\n",
    "\n",
    "sigma_yy1 = sym.diff(phi,(x,2)).simplify()\n",
    "\n",
    "sigma_xy = -sym.diff(phi,x,y).simplify()\n",
    "\n",
    "sigma_xx = sigma_xx1 - rho*g*x \n",
    "sigma_yy = sigma_yy1 - rho*g*x \n",
    "\n",
    "display(Math(r'\\sigma_{{xx}} = {}'.format(sym.latex(sigma_xx))))\n",
    "display(Math(r'\\sigma_{{yy}} = {}'.format(sym.latex(sigma_yy))))\n",
    "display(Math(r'\\sigma_{{xy}} = {}'.format(sym.latex(sigma_xy))))\n"
   ]
  },
  {
   "cell_type": "code",
   "execution_count": 136,
   "metadata": {},
   "outputs": [
    {
     "data": {
      "text/latex": [
       "$\\displaystyle 0$"
      ],
      "text/plain": [
       "0"
      ]
     },
     "metadata": {},
     "output_type": "display_data"
    }
   ],
   "source": [
    "biharm = (sym.diff(phi,(x,4)) + 2*sym.diff(phi,x,x,y,y) + sym.diff(phi,(y,4)))\n",
    "display(biharm)"
   ]
  },
  {
   "cell_type": "markdown",
   "metadata": {},
   "source": [
    ".\n",
    "\n",
    "applying $boundary$  $conditions$ at $y=0$\n",
    "\n",
    "."
   ]
  },
  {
   "cell_type": "code",
   "execution_count": 254,
   "metadata": {},
   "outputs": [
    {
     "data": {
      "text/latex": [
       "$\\displaystyle 6 A x - g \\rho x = - g \\rho_{w} x$"
      ],
      "text/plain": [
       "Eq(6*A*x - g*rho*x, -g*rho_w*x)"
      ]
     },
     "execution_count": 254,
     "metadata": {},
     "output_type": "execute_result"
    }
   ],
   "source": [
    "lhs = sigma_yy.subs(y,0)\n",
    "\n",
    "bc_1 = sym.Eq(lhs,-rhow*g*x)\n",
    "bc_1"
   ]
  },
  {
   "cell_type": "code",
   "execution_count": 271,
   "metadata": {},
   "outputs": [
    {
     "data": {
      "text/latex": [
       "$\\displaystyle A = \\frac{g \\rho}{6} - \\frac{g \\rho_{w}}{6}$"
      ],
      "text/plain": [
       "Eq(A, g*rho/6 - g*rho_w/6)"
      ]
     },
     "execution_count": 271,
     "metadata": {},
     "output_type": "execute_result"
    }
   ],
   "source": [
    "bc1 = sym.Eq(A,(-rhow*g+rho*g)/6)\n",
    "bc1"
   ]
  },
  {
   "cell_type": "code",
   "execution_count": 272,
   "metadata": {},
   "outputs": [
    {
     "data": {
      "text/latex": [
       "$\\displaystyle - 2 C x = 0$"
      ],
      "text/plain": [
       "Eq(-2*C*x, 0)"
      ]
     },
     "execution_count": 272,
     "metadata": {},
     "output_type": "execute_result"
    }
   ],
   "source": [
    "lhs = sigma_xy.subs(y,0)\n",
    "bc_2 = sym.Eq(lhs,0)\n",
    "bc_2"
   ]
  },
  {
   "cell_type": "code",
   "execution_count": 273,
   "metadata": {},
   "outputs": [
    {
     "data": {
      "text/latex": [
       "$\\displaystyle C = 0$"
      ],
      "text/plain": [
       "Eq(C, 0)"
      ]
     },
     "execution_count": 273,
     "metadata": {},
     "output_type": "execute_result"
    }
   ],
   "source": [
    "bc2 = sym.Eq(C,0)\n",
    "bc2"
   ]
  },
  {
   "cell_type": "code",
   "execution_count": 308,
   "metadata": {},
   "outputs": [],
   "source": [
    "t1 = sigma_xx.subs(x,h)\n",
    "t2 = sigma_xy.subs(x,h)\n",
    "t3 = sigma_yy.subs(x,h)\n",
    "\n"
   ]
  },
  {
   "cell_type": "markdown",
   "metadata": {},
   "source": [
    ".\n",
    "\n",
    "\n",
    "applying $boundary$  $conditions$ at $x=h$\n",
    "\n",
    "\n",
    "."
   ]
  },
  {
   "cell_type": "code",
   "execution_count": 309,
   "metadata": {},
   "outputs": [
    {
     "data": {
      "text/latex": [
       "$\\displaystyle 3 B h^{2} \\tan^{2}{\\left(\\alpha \\right)} + h \\left(2 D h - g h \\rho\\right) \\tan{\\left(\\alpha \\right)} = - \\frac{g h^{2} \\rho \\tan{\\left(\\alpha \\right)}}{2}$"
      ],
      "text/plain": [
       "Eq(3*B*h**2*tan(alpha)**2 + h*(2*D*h - g*h*rho)*tan(alpha), -g*h**2*rho*tan(alpha)/2)"
      ]
     },
     "metadata": {},
     "output_type": "display_data"
    },
    {
     "data": {
      "text/latex": [
       "$\\displaystyle 2 B h^{3} \\tan^{3}{\\left(\\alpha \\right)} + h^{2} \\left(- B h \\tan{\\left(\\alpha \\right)} + D h - \\frac{g h \\rho}{2}\\right) \\tan^{2}{\\left(\\alpha \\right)} + h \\left(- \\frac{2 D h^{2} \\tan{\\left(\\alpha \\right)}}{3} + \\frac{g h^{2} \\rho \\tan{\\left(\\alpha \\right)}}{3}\\right) \\tan{\\left(\\alpha \\right)} = - \\frac{g h^{3} \\rho_{w}}{6}$"
      ],
      "text/plain": [
       "Eq(2*B*h**3*tan(alpha)**3 + h**2*(-B*h*tan(alpha) + D*h - g*h*rho/2)*tan(alpha)**2 + h*(-2*D*h**2*tan(alpha)/3 + g*h**2*rho*tan(alpha)/3)*tan(alpha), -g*h**3*rho_w/6)"
      ]
     },
     "metadata": {},
     "output_type": "display_data"
    },
    {
     "data": {
      "text/latex": [
       "$\\displaystyle - 2 C h^{2} \\tan{\\left(\\alpha \\right)} - D h^{2} \\tan^{2}{\\left(\\alpha \\right)} = - \\frac{g h^{2} \\rho_{w}}{2}$"
      ],
      "text/plain": [
       "Eq(-2*C*h**2*tan(alpha) - D*h**2*tan(alpha)**2, -g*h**2*rho_w/2)"
      ]
     },
     "metadata": {},
     "output_type": "display_data"
    }
   ],
   "source": [
    "bc_3 = sym.integrate(t1,(y,0,h*sym.tan(alpha)))\n",
    "bc3 = sym.Eq(bc_3,(-rho*g*sym.tan(alpha)*h**2)/2)\n",
    "\n",
    "ybar = (y-((h/3)*sym.tan(alpha)))\n",
    "bc_4 = sym.integrate(t1*(ybar),(y,0,h*sym.tan(alpha)))\n",
    "bc4  = sym.Eq(bc_4,-(rhow*g*h**3)/6)\n",
    "\n",
    "\n",
    "bc_5 = sym.integrate(t2,(y,0,h*sym.tan(alpha)))\n",
    "bc5  = sym.Eq(bc_5,-rhow*g*h**2/2)\n",
    "\n",
    "display(bc3,bc4,bc5)\n"
   ]
  },
  {
   "cell_type": "code",
   "execution_count": 310,
   "metadata": {},
   "outputs": [],
   "source": [
    "##soln, = sym.linsolve([bc1,bc3,bc4],[A,B,C,D])\n",
    "soln, = sym.linsolve([bc1,bc2,bc3,bc5,bc4],[A,B,C,D])"
   ]
  },
  {
   "cell_type": "code",
   "execution_count": 311,
   "metadata": {},
   "outputs": [
    {
     "data": {
      "text/latex": [
       "$\\displaystyle A = \\frac{g \\left(\\rho - \\rho_{w}\\right)}{6}$"
      ],
      "text/plain": [
       "<IPython.core.display.Math object>"
      ]
     },
     "metadata": {},
     "output_type": "display_data"
    },
    {
     "data": {
      "text/latex": [
       "$\\displaystyle B =  \\frac{g \\left(\\rho - \\frac{2 \\rho_{w}}{\\tan^{2}{\\left(\\alpha \\right)}}\\right)}{6 \\tan{\\left(\\alpha \\right)}}$"
      ],
      "text/plain": [
       "<IPython.core.display.Math object>"
      ]
     },
     "metadata": {},
     "output_type": "display_data"
    },
    {
     "data": {
      "text/latex": [
       "$\\displaystyle C = 0$"
      ],
      "text/plain": [
       "<IPython.core.display.Math object>"
      ]
     },
     "metadata": {},
     "output_type": "display_data"
    },
    {
     "data": {
      "text/latex": [
       "$\\displaystyle D = \\frac{g \\rho_{w}}{2 \\tan^{2}{\\left(\\alpha \\right)}}$"
      ],
      "text/plain": [
       "<IPython.core.display.Math object>"
      ]
     },
     "metadata": {},
     "output_type": "display_data"
    }
   ],
   "source": [
    "A_soln = soln[0]\n",
    "B_soln = soln[1]\n",
    "C_soln = soln[2]\n",
    "D_soln = soln[3]\n",
    "##E_soln = soln[4]\n",
    "\n",
    "display(Math(r'A = {}'.format(sym.latex(A_soln))))\n",
    "display(Math(r'B =  {}'.format(sym.latex(B_soln))))\n",
    "display(Math(r'C = {}'.format(sym.latex(C_soln))))\n",
    "display(Math(r'D = {}'.format(sym.latex(D_soln))))\n",
    "##display(Math(r'E=  {}'.format(sym.latex(E_soln))))\n"
   ]
  },
  {
   "cell_type": "markdown",
   "metadata": {},
   "source": [
    ".\n",
    "\n",
    "\n",
    "\n",
    "$boundary$  $conditions$ on inclined face\n",
    "\n",
    "\n",
    "."
   ]
  },
  {
   "cell_type": "code",
   "execution_count": 312,
   "metadata": {},
   "outputs": [
    {
     "data": {
      "text/latex": [
       "$\\displaystyle - 2 x \\left(C + D \\tan{\\left(\\alpha \\right)}\\right) \\cos{\\left(\\alpha \\right)} - x \\left(6 B \\tan{\\left(\\alpha \\right)} + 2 D - g \\rho\\right) \\sin{\\left(\\alpha \\right)} = 0$"
      ],
      "text/plain": [
       "Eq(-2*x*(C + D*tan(alpha))*cos(alpha) - x*(6*B*tan(alpha) + 2*D - g*rho)*sin(alpha), 0)"
      ]
     },
     "metadata": {},
     "output_type": "display_data"
    },
    {
     "data": {
      "text/latex": [
       "$\\displaystyle 2 x \\left(C + D \\tan{\\left(\\alpha \\right)}\\right) \\sin{\\left(\\alpha \\right)} + x \\left(6 A + 2 C \\tan{\\left(\\alpha \\right)} - g \\rho\\right) \\cos{\\left(\\alpha \\right)} = 0$"
      ],
      "text/plain": [
       "Eq(2*x*(C + D*tan(alpha))*sin(alpha) + x*(6*A + 2*C*tan(alpha) - g*rho)*cos(alpha), 0)"
      ]
     },
     "metadata": {},
     "output_type": "display_data"
    }
   ],
   "source": [
    "t4 = sigma_xx.subs(y,x*sym.tan(alpha)).simplify()\n",
    "t5 = sigma_xy.subs(y,x*sym.tan(alpha)).simplify()\n",
    "t6 = sigma_yy.subs(y,x*sym.tan(alpha)).simplify()\n",
    "\n",
    "bc_6 = t5*sym.cos(alpha) - t4*sym.sin(alpha)\n",
    "bc6 = sym.Eq(bc_6,0)\n",
    "bc_7 = t6*sym.cos(alpha) - t5*sym.sin(alpha)\n",
    "bc7 = sym.Eq(bc_7,0)\n",
    "\n",
    "display(bc6,bc7)\n"
   ]
  },
  {
   "cell_type": "markdown",
   "metadata": {},
   "source": [
    ".\n",
    "\n",
    "\n",
    "\n",
    "\n",
    "\n",
    "verifying that all $traction$  $components$ to be $0$ on inclined face\n",
    "\n",
    "\n",
    "."
   ]
  },
  {
   "cell_type": "code",
   "execution_count": 313,
   "metadata": {},
   "outputs": [
    {
     "data": {
      "text/latex": [
       "$\\displaystyle \\left(2 C + 2 D \\tan{\\left(\\alpha \\right)}\\right) \\cos{\\left(\\alpha \\right)} + \\left(6 B \\tan{\\left(\\alpha \\right)} + 2 D - g \\rho\\right) \\sin{\\left(\\alpha \\right)}$"
      ],
      "text/plain": [
       "(2*C + 2*D*tan(alpha))*cos(alpha) + (6*B*tan(alpha) + 2*D - g*rho)*sin(alpha)"
      ]
     },
     "metadata": {},
     "output_type": "display_data"
    },
    {
     "data": {
      "text/latex": [
       "$\\displaystyle \\left(2 C + 2 D \\tan{\\left(\\alpha \\right)}\\right) \\sin{\\left(\\alpha \\right)} + \\left(6 A + 2 C \\tan{\\left(\\alpha \\right)} - g \\rho\\right) \\cos{\\left(\\alpha \\right)}$"
      ],
      "text/plain": [
       "(2*C + 2*D*tan(alpha))*sin(alpha) + (6*A + 2*C*tan(alpha) - g*rho)*cos(alpha)"
      ]
     },
     "metadata": {},
     "output_type": "display_data"
    },
    {
     "data": {
      "text/latex": [
       "$\\displaystyle 0$"
      ],
      "text/plain": [
       "0"
      ]
     },
     "metadata": {},
     "output_type": "display_data"
    },
    {
     "data": {
      "text/latex": [
       "$\\displaystyle 0$"
      ],
      "text/plain": [
       "0"
      ]
     },
     "metadata": {},
     "output_type": "display_data"
    }
   ],
   "source": [
    "t7 = (2*C +2*D*sym.tan(alpha))*sym.cos(alpha)   + (6*B*sym.tan(alpha) +2*D -rho*g)*sym.sin(alpha)\n",
    "t8 = (2*C +2*D*sym.tan(alpha))*sym.sin(alpha)  +  (6*A  + 2*C*sym.tan(alpha) -rho*g)*sym.cos(alpha)\n",
    "check1 = t7.subs([(B,B_soln),(C,C_soln),(D,D_soln)]).simplify()\n",
    "check2 = t8.subs([(A,A_soln),(B,B_soln),(C,C_soln),(D,D_soln)]).simplify()\n",
    "\n",
    "display(t7,t8,check1,check2)"
   ]
  },
  {
   "cell_type": "code",
   "execution_count": 314,
   "metadata": {},
   "outputs": [
    {
     "data": {
      "text/latex": [
       "$\\displaystyle \\sigma_{xx} = g \\left(- \\rho x + \\frac{\\rho y}{\\tan{\\left(\\alpha \\right)}} + \\frac{\\rho_{w} x}{\\tan^{2}{\\left(\\alpha \\right)}} - \\frac{2 \\rho_{w} y}{\\tan^{3}{\\left(\\alpha \\right)}}\\right)$"
      ],
      "text/plain": [
       "<IPython.core.display.Math object>"
      ]
     },
     "metadata": {},
     "output_type": "display_data"
    },
    {
     "data": {
      "text/latex": [
       "$\\displaystyle \\sigma_{yy} = - g \\rho_{w} x$"
      ],
      "text/plain": [
       "<IPython.core.display.Math object>"
      ]
     },
     "metadata": {},
     "output_type": "display_data"
    },
    {
     "data": {
      "text/latex": [
       "$\\displaystyle \\sigma_{xy} = - \\frac{g \\rho_{w} y}{\\tan^{2}{\\left(\\alpha \\right)}}$"
      ],
      "text/plain": [
       "<IPython.core.display.Math object>"
      ]
     },
     "metadata": {},
     "output_type": "display_data"
    }
   ],
   "source": [
    "sigmaxx_soln = sigma_xx.subs([(A,A_soln),(B,B_soln),(C,C_soln),(D,D_soln)]).simplify()\n",
    "sigmayy_soln = sigma_yy.subs([(A,A_soln),(B,B_soln),(C,C_soln),(D,D_soln)]).simplify()\n",
    "sigmaxy_soln = sigma_xy.subs([(A,A_soln),(B,B_soln),(C,C_soln),(D,D_soln)]).simplify()\n",
    "display(Math(r'\\sigma_{{xx}} = {}'.format(sym.latex(sigmaxx_soln))))\n",
    "display(Math(r'\\sigma_{{yy}} = {}'.format(sym.latex(sigmayy_soln))))\n",
    "display(Math(r'\\sigma_{{xy}} = {}'.format(sym.latex(sigmaxy_soln))))"
   ]
  },
  {
   "cell_type": "markdown",
   "metadata": {},
   "source": [
    ".\n",
    "\n",
    "\n",
    "\n",
    "\n",
    "\n",
    "At $ x=h$ , $ y=0 $ is the point where we get the maximum tensile stress in the structure and at that point shear stress  is 0 $sigma xx $ will be the principle stress\n",
    "for the min value of alpha for which tensile stress is $0$ is obtained by equating $sigma xx$ to $ 0$\n",
    "\n",
    "\n",
    "\n",
    "."
   ]
  },
  {
   "cell_type": "code",
   "execution_count": 315,
   "metadata": {},
   "outputs": [
    {
     "data": {
      "text/latex": [
       "$\\displaystyle \\sigma_{pr} = - 22.563 h \\rho_{w} + \\frac{9.81 h \\rho_{w}}{\\tan^{2}{\\left(\\alpha \\right)}}$"
      ],
      "text/plain": [
       "<IPython.core.display.Math object>"
      ]
     },
     "metadata": {},
     "output_type": "display_data"
    }
   ],
   "source": [
    "sigma_pr = sigma_xx.subs([(x,h),(y,0),(D,D_soln),(g,9.81),(rho,2.3*rhow)])\n",
    "display(Math(r'\\sigma_{{pr}} = {}'.format(sym.latex(sigma_pr))))\n",
    "\n"
   ]
  },
  {
   "cell_type": "code",
   "execution_count": 316,
   "metadata": {},
   "outputs": [
    {
     "data": {
      "text/latex": [
       "$\\displaystyle - 22.563 h \\rho_{w} + \\frac{9.81 h \\rho_{w}}{\\tan^{2}{\\left(\\alpha \\right)}} = 0$"
      ],
      "text/plain": [
       "Eq(-22.563*h*rho_w + 9.81*h*rho_w/tan(alpha)**2, 0)"
      ]
     },
     "execution_count": 316,
     "metadata": {},
     "output_type": "execute_result"
    }
   ],
   "source": [
    "t9 = sym.Eq(sigma_pr.subs([(D,D_soln),(g,9.81),(rho,2.3*rhow)]),0)\n",
    "t9"
   ]
  },
  {
   "cell_type": "code",
   "execution_count": 317,
   "metadata": {},
   "outputs": [
    {
     "data": {
      "text/latex": [
       "$\\displaystyle -22.563 + \\frac{9.81}{\\tan^{2}{\\left(\\alpha \\right)}} = 0$"
      ],
      "text/plain": [
       "Eq(-22.563 + 9.81/tan(alpha)**2, 0)"
      ]
     },
     "execution_count": 317,
     "metadata": {},
     "output_type": "execute_result"
    }
   ],
   "source": [
    "t10= sigma_pr.coeff(h*rhow)\n",
    "t11 = sym.Eq(t10,0)\n",
    "t11"
   ]
  },
  {
   "cell_type": "code",
   "execution_count": 318,
   "metadata": {},
   "outputs": [],
   "source": [
    "from sympy.solvers import solve"
   ]
  },
  {
   "cell_type": "code",
   "execution_count": 319,
   "metadata": {},
   "outputs": [],
   "source": [
    "sol = solve(t12,alpha)"
   ]
  },
  {
   "cell_type": "code",
   "execution_count": 320,
   "metadata": {},
   "outputs": [
    {
     "data": {
      "text/latex": [
       "$\\displaystyle 33.4000784085467$"
      ],
      "text/plain": [
       "33.4000784085467"
      ]
     },
     "metadata": {},
     "output_type": "display_data"
    }
   ],
   "source": [
    "alphadeg = (sol[1]*180/sym.pi).evalf()\n",
    "display(alphadeg)"
   ]
  },
  {
   "cell_type": "code",
   "execution_count": null,
   "metadata": {},
   "outputs": [],
   "source": []
  },
  {
   "cell_type": "code",
   "execution_count": null,
   "metadata": {},
   "outputs": [],
   "source": []
  },
  {
   "cell_type": "code",
   "execution_count": null,
   "metadata": {},
   "outputs": [],
   "source": []
  },
  {
   "cell_type": "code",
   "execution_count": null,
   "metadata": {},
   "outputs": [],
   "source": []
  },
  {
   "cell_type": "code",
   "execution_count": null,
   "metadata": {},
   "outputs": [],
   "source": []
  }
 ],
 "metadata": {
  "kernelspec": {
   "display_name": "Python 3",
   "language": "python",
   "name": "python3"
  },
  "language_info": {
   "codemirror_mode": {
    "name": "ipython",
    "version": 3
   },
   "file_extension": ".py",
   "mimetype": "text/x-python",
   "name": "python",
   "nbconvert_exporter": "python",
   "pygments_lexer": "ipython3",
   "version": "3.8.3"
  }
 },
 "nbformat": 4,
 "nbformat_minor": 4
}
