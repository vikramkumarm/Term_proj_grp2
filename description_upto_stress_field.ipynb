{
 "cells": [
  {
   "cell_type": "code",
   "execution_count": 1,
   "metadata": {},
   "outputs": [],
   "source": [
    "from polarUtilities import*\n",
    "from IPython.display import Math, Latex"
   ]
  },
  {
   "cell_type": "code",
   "execution_count": 2,
   "metadata": {},
   "outputs": [
    {
     "data": {
      "text/latex": [
       "$\\displaystyle r^{3} f{\\left(\\theta \\right)}$"
      ],
      "text/plain": [
       "r**3*f(theta)"
      ]
     },
     "execution_count": 2,
     "metadata": {},
     "output_type": "execute_result"
    }
   ],
   "source": [
    "\n",
    "phi_polar = r**3*sym.Function('f')(theta)\n",
    "phi_polar"
   ]
  },
  {
   "cell_type": "code",
   "execution_count": 3,
   "metadata": {},
   "outputs": [
    {
     "data": {
      "text/latex": [
       "$\\displaystyle f{\\left(\\theta \\right)} = C_{1} e^{- 3 i \\theta} + C_{2} e^{- i \\theta} + C_{3} e^{i \\theta} + C_{4} e^{3 i \\theta}$"
      ],
      "text/plain": [
       "Eq(f(theta), C1*exp(-3*I*theta) + C2*exp(-I*theta) + C3*exp(I*theta) + C4*exp(3*I*theta))"
      ]
     },
     "execution_count": 3,
     "metadata": {},
     "output_type": "execute_result"
    }
   ],
   "source": [
    "sym.dsolve(polarbiharmonic(phi_polar)).simplify().expand()"
   ]
  },
  {
   "cell_type": "code",
   "execution_count": 4,
   "metadata": {},
   "outputs": [
    {
     "data": {
      "text/latex": [
       "$\\displaystyle f(\\theta) = A \\cos{\\left(3 \\theta \\right)} + B \\sin{\\left(3 \\theta \\right)} + C \\cos{\\left(\\theta \\right)} + D \\sin{\\left(\\theta \\right)}$"
      ],
      "text/plain": [
       "<IPython.core.display.Math object>"
      ]
     },
     "metadata": {},
     "output_type": "display_data"
    }
   ],
   "source": [
    "A, B, C, D ,x,y, rho,rhow,g , h , alpha,E = sym.symbols('A, B, C, D,x,y,rho,rho_w,g ,h , alpha,E')\n",
    "fnew = A*sym.cos(3*theta) + B*sym.sin(3*theta) + C*sym.cos(theta) + D*sym.sin(theta)\n",
    "display(Math(r'f(\\theta) = {}'.format(sym.latex(fnew))))"
   ]
  },
  {
   "cell_type": "code",
   "execution_count": 5,
   "metadata": {},
   "outputs": [
    {
     "data": {
      "text/latex": [
       "$\\displaystyle \\phi{(r,\\theta)} = r^{3} \\left(A \\cos^{3}{\\left(\\theta \\right)} + B \\sin^{3}{\\left(\\theta \\right)} + C \\cos{\\left(\\theta \\right)} + D \\sin{\\left(\\theta \\right)}\\right)$"
      ],
      "text/plain": [
       "<IPython.core.display.Math object>"
      ]
     },
     "metadata": {},
     "output_type": "display_data"
    }
   ],
   "source": [
    "phi_polarr=r**3*(A*sym.cos(theta)**3 + B*sym.sin(theta)**3 + C*sym.cos(theta) + D*sym.sin(theta))\n",
    "display(Math(r'\\phi{{(r,\\theta)}} = {}'.format(sym.latex(phi_polarr))))"
   ]
  },
  {
   "cell_type": "markdown",
   "metadata": {},
   "source": [
    "We will do this problem in cartesian coordinate since we require some plots of Maximum Principal Stress with $x$ and $y$ coordinates in the later stages.<br>\n",
    "To convert our Airy stress function to cartesian system we substitute the values of $r$ and $\\theta$ to $\\phi(r,\\theta)$\n",
    "\\begin{align*}\n",
    "r = x^2+y^2 \\\\\n",
    "\\theta=\\tan^{-1}(y/x)\n",
    "\\end{align*}"
   ]
  },
  {
   "cell_type": "code",
   "execution_count": 8,
   "metadata": {},
   "outputs": [
    {
     "data": {
      "text/latex": [
       "$\\displaystyle \\frac{x^{5} \\left(\\frac{x^{2} + y^{2}}{x^{2}}\\right)^{\\frac{5}{2}} \\left(A x^{3} + B y^{3} + C x \\left(x^{2} + y^{2}\\right) + D y \\left(x^{2} + y^{2}\\right)\\right)}{\\left(x^{2} + y^{2}\\right)^{2.5}}$"
      ],
      "text/plain": [
       "x**5*((x**2 + y**2)/x**2)**(5/2)*(x**2 + y**2)**(-2.5)*(A*x**3 + B*y**3 + C*x*(x**2 + y**2) + D*y*(x**2 + y**2))"
      ]
     },
     "execution_count": 8,
     "metadata": {},
     "output_type": "execute_result"
    }
   ],
   "source": [
    "phi_cart=phi_polarr.subs([(r,((x**2+y**2)**0.5)),(theta,(sym.atan(y/x)))]).simplify()\n",
    "phi_cart"
   ]
  },
  {
   "cell_type": "markdown",
   "metadata": {},
   "source": [
    "From the function obtained above after further simplification by hand we can obtain the new function $\\phi(x,y)$ which is our required Airy stress function in cartesian coordinate as \n",
    "\\begin{align*}\n",
    "\\phi(x,y) = Ax^3 + By^3 + Cx^2y  + Dxy^2\n",
    "\\end{align*}\n",
    "###### NOTE: The Value of Constants A,B,C,D  in $\\phi(x,y)$ are different from the function before simplification"
   ]
  },
  {
   "cell_type": "code",
   "execution_count": 11,
   "metadata": {},
   "outputs": [
    {
     "data": {
      "text/latex": [
       "$\\displaystyle \\phi{(x,y)} = A x^{3} + B y^{3} + C x^{2} y + D x y^{2}$"
      ],
      "text/plain": [
       "<IPython.core.display.Math object>"
      ]
     },
     "metadata": {},
     "output_type": "display_data"
    }
   ],
   "source": [
    "phi= A*x**3 + B*y**3 + C*x**2*y  + D*x*y**2\n",
    "display(Math(r'\\phi{{(x,y)}} = {}'.format(sym.latex(phi))))"
   ]
  },
  {
   "cell_type": "markdown",
   "metadata": {},
   "source": [
    "Now we will find out the biharmonic equation of $\\phi(x,y)$ and check whether it is equal to zero.\n",
    "\\begin{align}\n",
    "i.e. \\nabla^4\\phi = 0\n",
    "\\end{align}<br>"
   ]
  },
  {
   "cell_type": "code",
   "execution_count": 12,
   "metadata": {},
   "outputs": [
    {
     "data": {
      "text/latex": [
       "$\\displaystyle 0$"
      ],
      "text/plain": [
       "0"
      ]
     },
     "metadata": {},
     "output_type": "display_data"
    }
   ],
   "source": [
    "\n",
    "biharm = (sym.diff(phi,(x,4)) + 2*sym.diff(phi,x,x,y,y) + sym.diff(phi,(y,4)))\n",
    "display(biharm)"
   ]
  },
  {
   "cell_type": "markdown",
   "metadata": {},
   "source": [
    "## Stress Fields\n",
    "The stress fields can be obtained from the following equations\n",
    "\\begin{align*}\n",
    "\\sigma_{xx}^\\rm{{1}} &= \\frac{\\partial^2\\phi(x,y)}{\\partial y^2},\\\\\n",
    "\\sigma_{yy}^\\rm{{1}} &= \\frac{\\partial^2\\phi(x,y)}{\\partial x^2},\\\\\n",
    "\\sigma_{xy} &= -\\frac{\\partial^2\\phi(x,y)}{\\partial x\\partial y}\n",
    "\\end{align*}\n",
    "But here the stress fields are found out without considering the conservative body forces. In order to incorporate this we will modify the stress fields by adding a $+V$ term to the normal stress components.\n",
    "\\begin{align*}\n",
    "\\sigma_{xx} &= \\sigma_{{xx}}^\\rm{{1}}+V\\\\\n",
    "\\sigma_{yy} &= \\sigma_{{yy}}^\\rm{{1}}+V\\\\\n",
    "\\end{align*}\n",
    "where $V$ is the body force potential.<br>\n",
    "In our problem the body force is due to gravity and it acts downwards along the $x$ axis.<br>\n",
    "So we have,<br>\n",
    "\\begin{align*}\n",
    "F_{x} &= \\rho_c g\\\\\n",
    "F_{y} &= 0\\\\\n",
    "\\end{align*}\n",
    "Where $\\rho_c$ is the density of the concrete and $g$ is the acceleration due to gravity.<br>\n",
    "So from the definition of body force potential we have,\n",
    "\\begin{align*}\n",
    "V=-\\rho_c gx\\\\\n",
    "\\end{align*}"
   ]
  },
  {
   "cell_type": "code",
   "execution_count": 10,
   "metadata": {},
   "outputs": [
    {
     "data": {
      "text/latex": [
       "$\\displaystyle \\sigma_{xx} = 6 B y + 2 D x - g \\rho_{c} x$"
      ],
      "text/plain": [
       "<IPython.core.display.Math object>"
      ]
     },
     "metadata": {},
     "output_type": "display_data"
    },
    {
     "data": {
      "text/latex": [
       "$\\displaystyle \\sigma_{yy} = 6 A x + 2 C y - g \\rho_{c} x$"
      ],
      "text/plain": [
       "<IPython.core.display.Math object>"
      ]
     },
     "metadata": {},
     "output_type": "display_data"
    },
    {
     "data": {
      "text/latex": [
       "$\\displaystyle \\sigma_{xy} = - 2 C x - 2 D y$"
      ],
      "text/plain": [
       "<IPython.core.display.Math object>"
      ]
     },
     "metadata": {},
     "output_type": "display_data"
    }
   ],
   "source": [
    "rhoc,g=sym.symbols('rho_c,g')\n",
    "sigma_xx1 = sym.diff(phi,(y,2)).simplify()\n",
    "\n",
    "sigma_yy1 = sym.diff(phi,(x,2)).simplify()\n",
    "\n",
    "sigma_xy = -sym.diff(phi,x,y).simplify()\n",
    "\n",
    "sigma_xx = sigma_xx1 - rhoc*g*x \n",
    "sigma_yy = sigma_yy1 - rhoc*g*x \n",
    "\n",
    "display(Math(r'\\sigma_{{xx}} = {}'.format(sym.latex(sigma_xx))))\n",
    "display(Math(r'\\sigma_{{yy}} = {}'.format(sym.latex(sigma_yy))))\n",
    "display(Math(r'\\sigma_{{xy}} = {}'.format(sym.latex(sigma_xy))))"
   ]
  },
  {
   "cell_type": "code",
   "execution_count": null,
   "metadata": {},
   "outputs": [],
   "source": []
  }
 ],
 "metadata": {
  "kernelspec": {
   "display_name": "Python 3",
   "language": "python",
   "name": "python3"
  },
  "language_info": {
   "codemirror_mode": {
    "name": "ipython",
    "version": 3
   },
   "file_extension": ".py",
   "mimetype": "text/x-python",
   "name": "python",
   "nbconvert_exporter": "python",
   "pygments_lexer": "ipython3",
   "version": "3.8.3"
  }
 },
 "nbformat": 4,
 "nbformat_minor": 4
}
