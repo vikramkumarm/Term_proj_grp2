{
 "cells": [
  {
   "cell_type": "code",
   "execution_count": 1,
   "metadata": {},
   "outputs": [],
   "source": [
    "from polarUtilities import *\n",
    "from IPython.display import Math, Latex "
   ]
  },
  {
   "cell_type": "code",
   "execution_count": 2,
   "metadata": {},
   "outputs": [
    {
     "data": {
      "text/latex": [
       "$\\displaystyle r^{3} f{\\left(\\theta \\right)}$"
      ],
      "text/plain": [
       "r**3*f(theta)"
      ]
     },
     "execution_count": 2,
     "metadata": {},
     "output_type": "execute_result"
    }
   ],
   "source": [
    "f=sym.Function('f')(theta)\n",
    "phi=r**3*f\n",
    "phi"
   ]
  },
  {
   "cell_type": "code",
   "execution_count": 3,
   "metadata": {},
   "outputs": [
    {
     "data": {
      "text/latex": [
       "$\\displaystyle \\frac{9 f{\\left(\\theta \\right)} + 10 \\frac{d^{2}}{d \\theta^{2}} f{\\left(\\theta \\right)} + \\frac{d^{4}}{d \\theta^{4}} f{\\left(\\theta \\right)}}{r}$"
      ],
      "text/plain": [
       "(9*f(theta) + 10*Derivative(f(theta), (theta, 2)) + Derivative(f(theta), (theta, 4)))/r"
      ]
     },
     "execution_count": 3,
     "metadata": {},
     "output_type": "execute_result"
    }
   ],
   "source": [
    "polarbiharmonic(phi)"
   ]
  },
  {
   "cell_type": "code",
   "execution_count": 4,
   "metadata": {},
   "outputs": [
    {
     "data": {
      "text/latex": [
       "$\\displaystyle f{\\left(\\theta \\right)} = C_{1} e^{- 3 i \\theta} + C_{2} e^{- i \\theta} + C_{3} e^{i \\theta} + C_{4} e^{3 i \\theta}$"
      ],
      "text/plain": [
       "Eq(f(theta), C1*exp(-3*I*theta) + C2*exp(-I*theta) + C3*exp(I*theta) + C4*exp(3*I*theta))"
      ]
     },
     "execution_count": 4,
     "metadata": {},
     "output_type": "execute_result"
    }
   ],
   "source": [
    "eq = sym.Eq(polarbiharmonic(phi),0)\n",
    "sym.dsolve(eq)"
   ]
  },
  {
   "cell_type": "code",
   "execution_count": 5,
   "metadata": {},
   "outputs": [
    {
     "data": {
      "text/latex": [
       "$\\displaystyle f(\\theta) = A \\cos{\\left(3 \\theta \\right)} + B \\sin{\\left(3 \\theta \\right)} + C \\cos{\\left(\\theta \\right)} + D \\sin{\\left(\\theta \\right)}$"
      ],
      "text/plain": [
       "<IPython.core.display.Math object>"
      ]
     },
     "metadata": {},
     "output_type": "display_data"
    }
   ],
   "source": [
    "A, B, C, D = sym.symbols('A, B, C, D')\n",
    "fnew = A*sym.cos(3*theta) + B*sym.sin(3*theta) + C*sym.cos(theta) + D*sym.sin(theta)\n",
    "display(Math(r'f(\\theta) = {}'.format(sym.latex(fnew))))"
   ]
  },
  {
   "cell_type": "code",
   "execution_count": 6,
   "metadata": {},
   "outputs": [
    {
     "data": {
      "text/latex": [
       "$\\displaystyle \\phi = r^{3} \\left(A \\cos{\\left(3 \\theta \\right)} + B \\sin{\\left(3 \\theta \\right)} + C \\cos{\\left(\\theta \\right)} + D \\sin{\\left(\\theta \\right)}\\right)$"
      ],
      "text/plain": [
       "<IPython.core.display.Math object>"
      ]
     },
     "metadata": {},
     "output_type": "display_data"
    }
   ],
   "source": [
    "phi=r**3*fnew\n",
    "display(Math(r'\\phi = {}'.format(sym.latex(phi))))"
   ]
  },
  {
   "cell_type": "code",
   "execution_count": 7,
   "metadata": {},
   "outputs": [
    {
     "data": {
      "text/latex": [
       "$\\displaystyle \\sigma_{rr}^\\rm{1} = - 6 A r \\cos{\\left(3 \\theta \\right)} - 6 B r \\sin{\\left(3 \\theta \\right)} + 2 C r \\sin^{4}{\\left(\\theta \\right)} \\cos{\\left(\\theta \\right)} - 2 C r \\cos^{5}{\\left(\\theta \\right)} + 4 C r \\cos^{3}{\\left(\\theta \\right)} + 2 D r \\sin{\\left(\\theta \\right)}$"
      ],
      "text/plain": [
       "<IPython.core.display.Math object>"
      ]
     },
     "metadata": {},
     "output_type": "display_data"
    },
    {
     "data": {
      "text/latex": [
       "$\\displaystyle \\sigma_{\\theta\\theta}^\\rm{1} = 6 A r \\cos{\\left(3 \\theta \\right)} + 6 B r \\sin{\\left(3 \\theta \\right)} + 6 C r \\sin^{4}{\\left(\\theta \\right)} \\cos{\\left(\\theta \\right)} - 6 C r \\cos^{5}{\\left(\\theta \\right)} + 12 C r \\cos^{3}{\\left(\\theta \\right)} + 6 D r \\sin{\\left(\\theta \\right)}$"
      ],
      "text/plain": [
       "<IPython.core.display.Math object>"
      ]
     },
     "metadata": {},
     "output_type": "display_data"
    },
    {
     "data": {
      "text/latex": [
       "$\\displaystyle \\sigma_{r\\theta} = 6 A r \\sin{\\left(3 \\theta \\right)} - 6 B r \\cos{\\left(3 \\theta \\right)} + 2 C r \\sin{\\left(\\theta \\right)} - 2 D r \\sin^{4}{\\left(\\theta \\right)} \\cos{\\left(\\theta \\right)} + 2 D r \\cos^{5}{\\left(\\theta \\right)} - 4 D r \\cos^{3}{\\left(\\theta \\right)}$"
      ],
      "text/plain": [
       "<IPython.core.display.Math object>"
      ]
     },
     "metadata": {},
     "output_type": "display_data"
    }
   ],
   "source": [
    "sigmarr1 = sigma_rr(phi)\n",
    "sigmatt1 = sigma_tt(phi)\n",
    "sigmart = sigma_rt(phi)\n",
    "\n",
    "display(Math(r'\\sigma_{{rr}}^\\rm{{1}} = {}'.format(sym.latex(sigmarr1))))\n",
    "display(Math(r'\\sigma_{{\\theta\\theta}}^\\rm{{1}} = {}'.format(sym.latex(sigmatt1))))\n",
    "display(Math(r'\\sigma_{{r\\theta}} = {}'.format(sym.latex(sigmart))))"
   ]
  },
  {
   "cell_type": "code",
   "execution_count": 8,
   "metadata": {},
   "outputs": [
    {
     "data": {
      "text/latex": [
       "$\\displaystyle - g r \\rho_{c} \\cos{\\left(\\theta \\right)}$"
      ],
      "text/plain": [
       "-g*r*rho_c*cos(theta)"
      ]
     },
     "metadata": {},
     "output_type": "display_data"
    }
   ],
   "source": [
    "rhoc,g=sym.symbols('rho_c,g')\n",
    "V = -rhoc*g*r*sym.cos(theta)\n",
    "display(V)"
   ]
  },
  {
   "cell_type": "code",
   "execution_count": 9,
   "metadata": {},
   "outputs": [
    {
     "data": {
      "text/latex": [
       "$\\displaystyle \\sigma_{rr} = - 6 A r \\cos{\\left(3 \\theta \\right)} - 6 B r \\sin{\\left(3 \\theta \\right)} + 2 C r \\sin^{4}{\\left(\\theta \\right)} \\cos{\\left(\\theta \\right)} - 2 C r \\cos^{5}{\\left(\\theta \\right)} + 4 C r \\cos^{3}{\\left(\\theta \\right)} + 2 D r \\sin{\\left(\\theta \\right)} - g r \\rho_{c} \\cos{\\left(\\theta \\right)}$"
      ],
      "text/plain": [
       "<IPython.core.display.Math object>"
      ]
     },
     "metadata": {},
     "output_type": "display_data"
    },
    {
     "data": {
      "text/latex": [
       "$\\displaystyle \\sigma_{\\theta\\theta} = 6 A r \\cos{\\left(3 \\theta \\right)} + 6 B r \\sin{\\left(3 \\theta \\right)} + 6 C r \\sin^{4}{\\left(\\theta \\right)} \\cos{\\left(\\theta \\right)} - 6 C r \\cos^{5}{\\left(\\theta \\right)} + 12 C r \\cos^{3}{\\left(\\theta \\right)} + 6 D r \\sin{\\left(\\theta \\right)} - g r \\rho_{c} \\cos{\\left(\\theta \\right)}$"
      ],
      "text/plain": [
       "<IPython.core.display.Math object>"
      ]
     },
     "metadata": {},
     "output_type": "display_data"
    },
    {
     "data": {
      "text/latex": [
       "$\\displaystyle \\sigma_{r\\theta} = 6 A r \\sin{\\left(3 \\theta \\right)} - 6 B r \\cos{\\left(3 \\theta \\right)} + 2 C r \\sin{\\left(\\theta \\right)} - 2 D r \\sin^{4}{\\left(\\theta \\right)} \\cos{\\left(\\theta \\right)} + 2 D r \\cos^{5}{\\left(\\theta \\right)} - 4 D r \\cos^{3}{\\left(\\theta \\right)}$"
      ],
      "text/plain": [
       "<IPython.core.display.Math object>"
      ]
     },
     "metadata": {},
     "output_type": "display_data"
    }
   ],
   "source": [
    "sigmarr=sigmarr1+V\n",
    "sigmatt=sigmatt1+V\n",
    "display(Math(r'\\sigma_{{rr}} = {}'.format(sym.latex(sigmarr))))\n",
    "display(Math(r'\\sigma_{{\\theta\\theta}} = {}'.format(sym.latex(sigmatt))))\n",
    "display(Math(r'\\sigma_{{r\\theta}} = {}'.format(sym.latex(sigmart))))"
   ]
  },
  {
   "cell_type": "code",
   "execution_count": 10,
   "metadata": {},
   "outputs": [],
   "source": [
    "rho,alpha = sym.symbols('rho,alpha')"
   ]
  },
  {
   "cell_type": "code",
   "execution_count": 22,
   "metadata": {},
   "outputs": [
    {
     "data": {
      "text/latex": [
       "$\\displaystyle D = - 3 B$"
      ],
      "text/plain": [
       "Eq(D, -3*B)"
      ]
     },
     "metadata": {},
     "output_type": "display_data"
    },
    {
     "data": {
      "text/latex": [
       "$\\displaystyle g \\rho = - 6 A - 6 C + g \\rho_{c}$"
      ],
      "text/plain": [
       "Eq(g*rho, -6*A - 6*C + g*rho_c)"
      ]
     },
     "metadata": {},
     "output_type": "display_data"
    },
    {
     "data": {
      "text/latex": [
       "$\\displaystyle 3 A \\sin{\\left(3 \\alpha \\right)} - 3 B \\cos{\\left(3 \\alpha \\right)} + C \\sin{\\left(\\alpha \\right)} - D \\sin^{4}{\\left(\\alpha \\right)} \\cos{\\left(\\alpha \\right)} + D \\cos^{5}{\\left(\\alpha \\right)} - 2 D \\cos^{3}{\\left(\\alpha \\right)} = 0$"
      ],
      "text/plain": [
       "Eq(3*A*sin(3*alpha) - 3*B*cos(3*alpha) + C*sin(alpha) - D*sin(alpha)**4*cos(alpha) + D*cos(alpha)**5 - 2*D*cos(alpha)**3, 0)"
      ]
     },
     "metadata": {},
     "output_type": "display_data"
    },
    {
     "data": {
      "text/latex": [
       "$\\displaystyle 6 A \\cos{\\left(3 \\alpha \\right)} + 6 B \\sin{\\left(3 \\alpha \\right)} + 6 C \\sin^{4}{\\left(\\alpha \\right)} \\cos{\\left(\\alpha \\right)} - 6 C \\cos^{5}{\\left(\\alpha \\right)} + 12 C \\cos^{3}{\\left(\\alpha \\right)} + 6 D \\sin{\\left(\\alpha \\right)} - g \\rho_{c} \\cos{\\left(\\alpha \\right)} = 0$"
      ],
      "text/plain": [
       "Eq(6*A*cos(3*alpha) + 6*B*sin(3*alpha) + 6*C*sin(alpha)**4*cos(alpha) - 6*C*cos(alpha)**5 + 12*C*cos(alpha)**3 + 6*D*sin(alpha) - g*rho_c*cos(alpha), 0)"
      ]
     },
     "metadata": {},
     "output_type": "display_data"
    }
   ],
   "source": [
    "lhs1=(sigmart.subs(theta,0))*(1/(2*r))\n",
    "rhs1=0\n",
    "eq1=sym.Eq(lhs1,rhs1).simplify()\n",
    "display(eq1)\n",
    "\n",
    "lhs2=(sigmatt.subs(theta,0))*1/r\n",
    "rhs2=-rho*g*r*1/r\n",
    "eq2=sym.Eq(lhs2,rhs2).simplify()\n",
    "display(eq2)\n",
    "\n",
    "lhs3 = (sigmart.subs(theta,alpha))*(1/(2*r))\n",
    "rhs3 = 0\n",
    "eq3 = sym.Eq(lhs3,rhs3).expand().simplify()\n",
    "display(eq3)\n",
    "\n",
    "lhs4 = (sigmatt.subs(theta,alpha))*(1/r)\n",
    "rhs4 = 0\n",
    "eq4 = sym.Eq(lhs4,rhs4).simplify()\n",
    "display(eq4)"
   ]
  },
  {
   "cell_type": "code",
   "execution_count": 23,
   "metadata": {},
   "outputs": [
    {
     "data": {
      "text/latex": [
       "$\\displaystyle \\left\\{\\left( \\frac{g \\left(3 \\rho \\sin^{10}{\\left(\\alpha \\right)} - 15 \\rho \\sin^{8}{\\left(\\alpha \\right)} + 24 \\rho \\sin^{6}{\\left(\\alpha \\right)} + 6 \\rho \\sin^{4}{\\left(\\alpha \\right)} \\cos^{6}{\\left(\\alpha \\right)} + 3 \\rho \\sin^{4}{\\left(\\alpha \\right)} \\cos{\\left(\\alpha \\right)} \\cos{\\left(3 \\alpha \\right)} - 12 \\rho \\sin^{4}{\\left(\\alpha \\right)} - 3 \\rho \\sin^{2}{\\left(\\alpha \\right)} + \\rho \\sin{\\left(\\alpha \\right)} \\sin{\\left(3 \\alpha \\right)} - 3 \\rho \\cos^{10}{\\left(\\alpha \\right)} + 12 \\rho \\cos^{8}{\\left(\\alpha \\right)} - 12 \\rho \\cos^{6}{\\left(\\alpha \\right)} - 3 \\rho \\cos^{5}{\\left(\\alpha \\right)} \\cos{\\left(3 \\alpha \\right)} + 6 \\rho \\cos^{3}{\\left(\\alpha \\right)} \\cos{\\left(3 \\alpha \\right)} - 3 \\rho_{c} \\sin^{10}{\\left(\\alpha \\right)} + 15 \\rho_{c} \\sin^{8}{\\left(\\alpha \\right)} - 21 \\rho_{c} \\sin^{6}{\\left(\\alpha \\right)} - 6 \\rho_{c} \\sin^{4}{\\left(\\alpha \\right)} \\cos^{6}{\\left(\\alpha \\right)} - 3 \\rho_{c} \\sin^{4}{\\left(\\alpha \\right)} \\cos{\\left(\\alpha \\right)} \\cos{\\left(3 \\alpha \\right)} + 3 \\rho_{c} \\sin^{4}{\\left(\\alpha \\right)} + 15 \\rho_{c} \\sin^{2}{\\left(\\alpha \\right)} - \\rho_{c} \\sin{\\left(\\alpha \\right)} \\sin{\\left(3 \\alpha \\right)} + 3 \\rho_{c} \\cos^{10}{\\left(\\alpha \\right)} - 12 \\rho_{c} \\cos^{8}{\\left(\\alpha \\right)} + 15 \\rho_{c} \\cos^{6}{\\left(\\alpha \\right)} + 3 \\rho_{c} \\cos^{5}{\\left(\\alpha \\right)} \\cos{\\left(3 \\alpha \\right)} - 6 \\rho_{c} \\cos^{3}{\\left(\\alpha \\right)} \\cos{\\left(3 \\alpha \\right)} + 3 \\rho_{c} \\cos{\\left(\\alpha \\right)} \\cos{\\left(3 \\alpha \\right)} - 6 \\rho_{c}\\right)}{6 \\left(- 48 \\sin^{6}{\\left(\\alpha \\right)} + 88 \\sin^{4}{\\left(\\alpha \\right)} - 27 \\sin^{2}{\\left(\\alpha \\right)} + 3 \\sin^{2}{\\left(3 \\alpha \\right)}\\right)}, \\  \\frac{g \\left(3 \\rho \\sin^{4}{\\left(\\alpha \\right)} \\sin{\\left(3 \\alpha \\right)} \\cos{\\left(\\alpha \\right)} - \\rho \\sin{\\left(\\alpha \\right)} \\cos{\\left(3 \\alpha \\right)} - 3 \\rho \\sin{\\left(3 \\alpha \\right)} \\cos^{5}{\\left(\\alpha \\right)} + 6 \\rho \\sin{\\left(3 \\alpha \\right)} \\cos^{3}{\\left(\\alpha \\right)} - 3 \\rho_{c} \\sin^{4}{\\left(\\alpha \\right)} \\sin{\\left(3 \\alpha \\right)} \\cos{\\left(\\alpha \\right)} + \\rho_{c} \\sin{\\left(\\alpha \\right)} \\cos{\\left(3 \\alpha \\right)} - \\frac{\\rho_{c} \\sin{\\left(2 \\alpha \\right)}}{2} + 3 \\rho_{c} \\sin{\\left(3 \\alpha \\right)} \\cos^{5}{\\left(\\alpha \\right)} - 6 \\rho_{c} \\sin{\\left(3 \\alpha \\right)} \\cos^{3}{\\left(\\alpha \\right)} + 3 \\rho_{c} \\sin{\\left(3 \\alpha \\right)} \\cos{\\left(\\alpha \\right)}\\right)}{6 \\left(- 48 \\sin^{6}{\\left(\\alpha \\right)} + 88 \\sin^{4}{\\left(\\alpha \\right)} - 27 \\sin^{2}{\\left(\\alpha \\right)} + 3 \\sin^{2}{\\left(3 \\alpha \\right)}\\right)}, \\  \\frac{g \\left(\\rho \\sin^{4}{\\left(\\alpha \\right)} \\cos{\\left(\\alpha \\right)} \\cos{\\left(3 \\alpha \\right)} + 3 \\rho \\sin{\\left(\\alpha \\right)} \\sin{\\left(3 \\alpha \\right)} - \\rho \\cos^{5}{\\left(\\alpha \\right)} \\cos{\\left(3 \\alpha \\right)} + 2 \\rho \\cos^{3}{\\left(\\alpha \\right)} \\cos{\\left(3 \\alpha \\right)} - \\rho - \\rho_{c} \\sin^{6}{\\left(\\alpha \\right)} - \\rho_{c} \\sin^{4}{\\left(\\alpha \\right)} \\cos{\\left(\\alpha \\right)} \\cos{\\left(3 \\alpha \\right)} + 3 \\rho_{c} \\sin^{4}{\\left(\\alpha \\right)} - 4 \\rho_{c} \\sin^{2}{\\left(\\alpha \\right)} - 3 \\rho_{c} \\sin{\\left(\\alpha \\right)} \\sin{\\left(3 \\alpha \\right)} - \\rho_{c} \\cos^{6}{\\left(\\alpha \\right)} + \\rho_{c} \\cos^{5}{\\left(\\alpha \\right)} \\cos{\\left(3 \\alpha \\right)} - 2 \\rho_{c} \\cos^{3}{\\left(\\alpha \\right)} \\cos{\\left(3 \\alpha \\right)} - \\rho_{c} \\cos{\\left(\\alpha \\right)} \\cos{\\left(3 \\alpha \\right)} + 3 \\rho_{c}\\right)}{2 \\left(- 48 \\sin^{6}{\\left(\\alpha \\right)} + 88 \\sin^{4}{\\left(\\alpha \\right)} - 27 \\sin^{2}{\\left(\\alpha \\right)} + 3 \\sin^{2}{\\left(3 \\alpha \\right)}\\right)}, \\  \\frac{g \\left(- 3 \\rho \\sin^{4}{\\left(\\alpha \\right)} \\sin{\\left(3 \\alpha \\right)} \\cos{\\left(\\alpha \\right)} + \\rho \\sin{\\left(\\alpha \\right)} \\cos{\\left(3 \\alpha \\right)} + 3 \\rho \\sin{\\left(3 \\alpha \\right)} \\cos^{5}{\\left(\\alpha \\right)} - 6 \\rho \\sin{\\left(3 \\alpha \\right)} \\cos^{3}{\\left(\\alpha \\right)} + 3 \\rho_{c} \\sin^{4}{\\left(\\alpha \\right)} \\sin{\\left(3 \\alpha \\right)} \\cos{\\left(\\alpha \\right)} - \\rho_{c} \\sin{\\left(\\alpha \\right)} \\cos{\\left(3 \\alpha \\right)} + \\frac{\\rho_{c} \\sin{\\left(2 \\alpha \\right)}}{2} - 3 \\rho_{c} \\sin{\\left(3 \\alpha \\right)} \\cos^{5}{\\left(\\alpha \\right)} + 6 \\rho_{c} \\sin{\\left(3 \\alpha \\right)} \\cos^{3}{\\left(\\alpha \\right)} - 3 \\rho_{c} \\sin{\\left(3 \\alpha \\right)} \\cos{\\left(\\alpha \\right)}\\right)}{2 \\left(- 48 \\sin^{6}{\\left(\\alpha \\right)} + 88 \\sin^{4}{\\left(\\alpha \\right)} - 27 \\sin^{2}{\\left(\\alpha \\right)} + 3 \\sin^{2}{\\left(3 \\alpha \\right)}\\right)}\\right)\\right\\}$"
      ],
      "text/plain": [
       "FiniteSet((g*(3*rho*sin(alpha)**10 - 15*rho*sin(alpha)**8 + 24*rho*sin(alpha)**6 + 6*rho*sin(alpha)**4*cos(alpha)**6 + 3*rho*sin(alpha)**4*cos(alpha)*cos(3*alpha) - 12*rho*sin(alpha)**4 - 3*rho*sin(alpha)**2 + rho*sin(alpha)*sin(3*alpha) - 3*rho*cos(alpha)**10 + 12*rho*cos(alpha)**8 - 12*rho*cos(alpha)**6 - 3*rho*cos(alpha)**5*cos(3*alpha) + 6*rho*cos(alpha)**3*cos(3*alpha) - 3*rho_c*sin(alpha)**10 + 15*rho_c*sin(alpha)**8 - 21*rho_c*sin(alpha)**6 - 6*rho_c*sin(alpha)**4*cos(alpha)**6 - 3*rho_c*sin(alpha)**4*cos(alpha)*cos(3*alpha) + 3*rho_c*sin(alpha)**4 + 15*rho_c*sin(alpha)**2 - rho_c*sin(alpha)*sin(3*alpha) + 3*rho_c*cos(alpha)**10 - 12*rho_c*cos(alpha)**8 + 15*rho_c*cos(alpha)**6 + 3*rho_c*cos(alpha)**5*cos(3*alpha) - 6*rho_c*cos(alpha)**3*cos(3*alpha) + 3*rho_c*cos(alpha)*cos(3*alpha) - 6*rho_c)/(6*(-48*sin(alpha)**6 + 88*sin(alpha)**4 - 27*sin(alpha)**2 + 3*sin(3*alpha)**2)), g*(3*rho*sin(alpha)**4*sin(3*alpha)*cos(alpha) - rho*sin(alpha)*cos(3*alpha) - 3*rho*sin(3*alpha)*cos(alpha)**5 + 6*rho*sin(3*alpha)*cos(alpha)**3 - 3*rho_c*sin(alpha)**4*sin(3*alpha)*cos(alpha) + rho_c*sin(alpha)*cos(3*alpha) - rho_c*sin(2*alpha)/2 + 3*rho_c*sin(3*alpha)*cos(alpha)**5 - 6*rho_c*sin(3*alpha)*cos(alpha)**3 + 3*rho_c*sin(3*alpha)*cos(alpha))/(6*(-48*sin(alpha)**6 + 88*sin(alpha)**4 - 27*sin(alpha)**2 + 3*sin(3*alpha)**2)), g*(rho*sin(alpha)**4*cos(alpha)*cos(3*alpha) + 3*rho*sin(alpha)*sin(3*alpha) - rho*cos(alpha)**5*cos(3*alpha) + 2*rho*cos(alpha)**3*cos(3*alpha) - rho - rho_c*sin(alpha)**6 - rho_c*sin(alpha)**4*cos(alpha)*cos(3*alpha) + 3*rho_c*sin(alpha)**4 - 4*rho_c*sin(alpha)**2 - 3*rho_c*sin(alpha)*sin(3*alpha) - rho_c*cos(alpha)**6 + rho_c*cos(alpha)**5*cos(3*alpha) - 2*rho_c*cos(alpha)**3*cos(3*alpha) - rho_c*cos(alpha)*cos(3*alpha) + 3*rho_c)/(2*(-48*sin(alpha)**6 + 88*sin(alpha)**4 - 27*sin(alpha)**2 + 3*sin(3*alpha)**2)), g*(-3*rho*sin(alpha)**4*sin(3*alpha)*cos(alpha) + rho*sin(alpha)*cos(3*alpha) + 3*rho*sin(3*alpha)*cos(alpha)**5 - 6*rho*sin(3*alpha)*cos(alpha)**3 + 3*rho_c*sin(alpha)**4*sin(3*alpha)*cos(alpha) - rho_c*sin(alpha)*cos(3*alpha) + rho_c*sin(2*alpha)/2 - 3*rho_c*sin(3*alpha)*cos(alpha)**5 + 6*rho_c*sin(3*alpha)*cos(alpha)**3 - 3*rho_c*sin(3*alpha)*cos(alpha))/(2*(-48*sin(alpha)**6 + 88*sin(alpha)**4 - 27*sin(alpha)**2 + 3*sin(3*alpha)**2))))"
      ]
     },
     "execution_count": 23,
     "metadata": {},
     "output_type": "execute_result"
    }
   ],
   "source": [
    "sym.linsolve([eq1,eq2,eq3,eq4],[A,B,C,D])"
   ]
  },
  {
   "cell_type": "code",
   "execution_count": 40,
   "metadata": {},
   "outputs": [
    {
     "data": {
      "text/latex": [
       "$\\displaystyle \\frac{g \\left(3 \\rho \\sin^{10}{\\left(\\alpha \\right)} - 15 \\rho \\sin^{8}{\\left(\\alpha \\right)} + 24 \\rho \\sin^{6}{\\left(\\alpha \\right)} + 6 \\rho \\sin^{4}{\\left(\\alpha \\right)} \\cos^{6}{\\left(\\alpha \\right)} + 3 \\rho \\sin^{4}{\\left(\\alpha \\right)} \\cos{\\left(\\alpha \\right)} \\cos{\\left(3 \\alpha \\right)} - 12 \\rho \\sin^{4}{\\left(\\alpha \\right)} - 3 \\rho \\sin^{2}{\\left(\\alpha \\right)} + \\rho \\sin{\\left(\\alpha \\right)} \\sin{\\left(3 \\alpha \\right)} - 3 \\rho \\cos^{10}{\\left(\\alpha \\right)} + 12 \\rho \\cos^{8}{\\left(\\alpha \\right)} - 12 \\rho \\cos^{6}{\\left(\\alpha \\right)} - 3 \\rho \\cos^{5}{\\left(\\alpha \\right)} \\cos{\\left(3 \\alpha \\right)} + 6 \\rho \\cos^{3}{\\left(\\alpha \\right)} \\cos{\\left(3 \\alpha \\right)} - 3 \\rho_{c} \\sin^{10}{\\left(\\alpha \\right)} + 15 \\rho_{c} \\sin^{8}{\\left(\\alpha \\right)} - 21 \\rho_{c} \\sin^{6}{\\left(\\alpha \\right)} - 6 \\rho_{c} \\sin^{4}{\\left(\\alpha \\right)} \\cos^{6}{\\left(\\alpha \\right)} - 3 \\rho_{c} \\sin^{4}{\\left(\\alpha \\right)} \\cos{\\left(\\alpha \\right)} \\cos{\\left(3 \\alpha \\right)} + 3 \\rho_{c} \\sin^{4}{\\left(\\alpha \\right)} + 15 \\rho_{c} \\sin^{2}{\\left(\\alpha \\right)} - \\rho_{c} \\sin{\\left(\\alpha \\right)} \\sin{\\left(3 \\alpha \\right)} + 3 \\rho_{c} \\cos^{10}{\\left(\\alpha \\right)} - 12 \\rho_{c} \\cos^{8}{\\left(\\alpha \\right)} + 15 \\rho_{c} \\cos^{6}{\\left(\\alpha \\right)} + 3 \\rho_{c} \\cos^{5}{\\left(\\alpha \\right)} \\cos{\\left(3 \\alpha \\right)} - 6 \\rho_{c} \\cos^{3}{\\left(\\alpha \\right)} \\cos{\\left(3 \\alpha \\right)} + 3 \\rho_{c} \\cos{\\left(\\alpha \\right)} \\cos{\\left(3 \\alpha \\right)} - 6 \\rho_{c}\\right)}{6 \\left(- 48 \\sin^{6}{\\left(\\alpha \\right)} + 88 \\sin^{4}{\\left(\\alpha \\right)} - 27 \\sin^{2}{\\left(\\alpha \\right)} + 3 \\sin^{2}{\\left(3 \\alpha \\right)}\\right)}$"
      ],
      "text/plain": [
       "g*(3*rho*sin(alpha)**10 - 15*rho*sin(alpha)**8 + 24*rho*sin(alpha)**6 + 6*rho*sin(alpha)**4*cos(alpha)**6 + 3*rho*sin(alpha)**4*cos(alpha)*cos(3*alpha) - 12*rho*sin(alpha)**4 - 3*rho*sin(alpha)**2 + rho*sin(alpha)*sin(3*alpha) - 3*rho*cos(alpha)**10 + 12*rho*cos(alpha)**8 - 12*rho*cos(alpha)**6 - 3*rho*cos(alpha)**5*cos(3*alpha) + 6*rho*cos(alpha)**3*cos(3*alpha) - 3*rho_c*sin(alpha)**10 + 15*rho_c*sin(alpha)**8 - 21*rho_c*sin(alpha)**6 - 6*rho_c*sin(alpha)**4*cos(alpha)**6 - 3*rho_c*sin(alpha)**4*cos(alpha)*cos(3*alpha) + 3*rho_c*sin(alpha)**4 + 15*rho_c*sin(alpha)**2 - rho_c*sin(alpha)*sin(3*alpha) + 3*rho_c*cos(alpha)**10 - 12*rho_c*cos(alpha)**8 + 15*rho_c*cos(alpha)**6 + 3*rho_c*cos(alpha)**5*cos(3*alpha) - 6*rho_c*cos(alpha)**3*cos(3*alpha) + 3*rho_c*cos(alpha)*cos(3*alpha) - 6*rho_c)/(6*(-48*sin(alpha)**6 + 88*sin(alpha)**4 - 27*sin(alpha)**2 + 3*sin(3*alpha)**2))"
      ]
     },
     "metadata": {},
     "output_type": "display_data"
    },
    {
     "data": {
      "text/latex": [
       "$\\displaystyle \\frac{g \\left(3 \\rho \\sin^{4}{\\left(\\alpha \\right)} \\sin{\\left(3 \\alpha \\right)} \\cos{\\left(\\alpha \\right)} - \\rho \\sin{\\left(\\alpha \\right)} \\cos{\\left(3 \\alpha \\right)} - 3 \\rho \\sin{\\left(3 \\alpha \\right)} \\cos^{5}{\\left(\\alpha \\right)} + 6 \\rho \\sin{\\left(3 \\alpha \\right)} \\cos^{3}{\\left(\\alpha \\right)} - 3 \\rho_{c} \\sin^{4}{\\left(\\alpha \\right)} \\sin{\\left(3 \\alpha \\right)} \\cos{\\left(\\alpha \\right)} + \\rho_{c} \\sin{\\left(\\alpha \\right)} \\cos{\\left(3 \\alpha \\right)} - \\frac{\\rho_{c} \\sin{\\left(2 \\alpha \\right)}}{2} + 3 \\rho_{c} \\sin{\\left(3 \\alpha \\right)} \\cos^{5}{\\left(\\alpha \\right)} - 6 \\rho_{c} \\sin{\\left(3 \\alpha \\right)} \\cos^{3}{\\left(\\alpha \\right)} + 3 \\rho_{c} \\sin{\\left(3 \\alpha \\right)} \\cos{\\left(\\alpha \\right)}\\right)}{6 \\left(- 48 \\sin^{6}{\\left(\\alpha \\right)} + 88 \\sin^{4}{\\left(\\alpha \\right)} - 27 \\sin^{2}{\\left(\\alpha \\right)} + 3 \\sin^{2}{\\left(3 \\alpha \\right)}\\right)}$"
      ],
      "text/plain": [
       "g*(3*rho*sin(alpha)**4*sin(3*alpha)*cos(alpha) - rho*sin(alpha)*cos(3*alpha) - 3*rho*sin(3*alpha)*cos(alpha)**5 + 6*rho*sin(3*alpha)*cos(alpha)**3 - 3*rho_c*sin(alpha)**4*sin(3*alpha)*cos(alpha) + rho_c*sin(alpha)*cos(3*alpha) - rho_c*sin(2*alpha)/2 + 3*rho_c*sin(3*alpha)*cos(alpha)**5 - 6*rho_c*sin(3*alpha)*cos(alpha)**3 + 3*rho_c*sin(3*alpha)*cos(alpha))/(6*(-48*sin(alpha)**6 + 88*sin(alpha)**4 - 27*sin(alpha)**2 + 3*sin(3*alpha)**2))"
      ]
     },
     "metadata": {},
     "output_type": "display_data"
    },
    {
     "data": {
      "text/latex": [
       "$\\displaystyle \\frac{g \\left(\\rho \\sin^{4}{\\left(\\alpha \\right)} \\cos{\\left(\\alpha \\right)} \\cos{\\left(3 \\alpha \\right)} + 3 \\rho \\sin{\\left(\\alpha \\right)} \\sin{\\left(3 \\alpha \\right)} - \\rho \\cos^{5}{\\left(\\alpha \\right)} \\cos{\\left(3 \\alpha \\right)} + 2 \\rho \\cos^{3}{\\left(\\alpha \\right)} \\cos{\\left(3 \\alpha \\right)} - \\rho - \\rho_{c} \\sin^{6}{\\left(\\alpha \\right)} - \\rho_{c} \\sin^{4}{\\left(\\alpha \\right)} \\cos{\\left(\\alpha \\right)} \\cos{\\left(3 \\alpha \\right)} + 3 \\rho_{c} \\sin^{4}{\\left(\\alpha \\right)} - 4 \\rho_{c} \\sin^{2}{\\left(\\alpha \\right)} - 3 \\rho_{c} \\sin{\\left(\\alpha \\right)} \\sin{\\left(3 \\alpha \\right)} - \\rho_{c} \\cos^{6}{\\left(\\alpha \\right)} + \\rho_{c} \\cos^{5}{\\left(\\alpha \\right)} \\cos{\\left(3 \\alpha \\right)} - 2 \\rho_{c} \\cos^{3}{\\left(\\alpha \\right)} \\cos{\\left(3 \\alpha \\right)} - \\rho_{c} \\cos{\\left(\\alpha \\right)} \\cos{\\left(3 \\alpha \\right)} + 3 \\rho_{c}\\right)}{2 \\left(- 48 \\sin^{6}{\\left(\\alpha \\right)} + 88 \\sin^{4}{\\left(\\alpha \\right)} - 27 \\sin^{2}{\\left(\\alpha \\right)} + 3 \\sin^{2}{\\left(3 \\alpha \\right)}\\right)}$"
      ],
      "text/plain": [
       "g*(rho*sin(alpha)**4*cos(alpha)*cos(3*alpha) + 3*rho*sin(alpha)*sin(3*alpha) - rho*cos(alpha)**5*cos(3*alpha) + 2*rho*cos(alpha)**3*cos(3*alpha) - rho - rho_c*sin(alpha)**6 - rho_c*sin(alpha)**4*cos(alpha)*cos(3*alpha) + 3*rho_c*sin(alpha)**4 - 4*rho_c*sin(alpha)**2 - 3*rho_c*sin(alpha)*sin(3*alpha) - rho_c*cos(alpha)**6 + rho_c*cos(alpha)**5*cos(3*alpha) - 2*rho_c*cos(alpha)**3*cos(3*alpha) - rho_c*cos(alpha)*cos(3*alpha) + 3*rho_c)/(2*(-48*sin(alpha)**6 + 88*sin(alpha)**4 - 27*sin(alpha)**2 + 3*sin(3*alpha)**2))"
      ]
     },
     "metadata": {},
     "output_type": "display_data"
    },
    {
     "data": {
      "text/latex": [
       "$\\displaystyle \\frac{g \\left(- 3 \\rho \\sin^{4}{\\left(\\alpha \\right)} \\sin{\\left(3 \\alpha \\right)} \\cos{\\left(\\alpha \\right)} + \\rho \\sin{\\left(\\alpha \\right)} \\cos{\\left(3 \\alpha \\right)} + 3 \\rho \\sin{\\left(3 \\alpha \\right)} \\cos^{5}{\\left(\\alpha \\right)} - 6 \\rho \\sin{\\left(3 \\alpha \\right)} \\cos^{3}{\\left(\\alpha \\right)} + 3 \\rho_{c} \\sin^{4}{\\left(\\alpha \\right)} \\sin{\\left(3 \\alpha \\right)} \\cos{\\left(\\alpha \\right)} - \\rho_{c} \\sin{\\left(\\alpha \\right)} \\cos{\\left(3 \\alpha \\right)} + \\frac{\\rho_{c} \\sin{\\left(2 \\alpha \\right)}}{2} - 3 \\rho_{c} \\sin{\\left(3 \\alpha \\right)} \\cos^{5}{\\left(\\alpha \\right)} + 6 \\rho_{c} \\sin{\\left(3 \\alpha \\right)} \\cos^{3}{\\left(\\alpha \\right)} - 3 \\rho_{c} \\sin{\\left(3 \\alpha \\right)} \\cos{\\left(\\alpha \\right)}\\right)}{2 \\left(- 48 \\sin^{6}{\\left(\\alpha \\right)} + 88 \\sin^{4}{\\left(\\alpha \\right)} - 27 \\sin^{2}{\\left(\\alpha \\right)} + 3 \\sin^{2}{\\left(3 \\alpha \\right)}\\right)}$"
      ],
      "text/plain": [
       "g*(-3*rho*sin(alpha)**4*sin(3*alpha)*cos(alpha) + rho*sin(alpha)*cos(3*alpha) + 3*rho*sin(3*alpha)*cos(alpha)**5 - 6*rho*sin(3*alpha)*cos(alpha)**3 + 3*rho_c*sin(alpha)**4*sin(3*alpha)*cos(alpha) - rho_c*sin(alpha)*cos(3*alpha) + rho_c*sin(2*alpha)/2 - 3*rho_c*sin(3*alpha)*cos(alpha)**5 + 6*rho_c*sin(3*alpha)*cos(alpha)**3 - 3*rho_c*sin(3*alpha)*cos(alpha))/(2*(-48*sin(alpha)**6 + 88*sin(alpha)**4 - 27*sin(alpha)**2 + 3*sin(3*alpha)**2))"
      ]
     },
     "metadata": {},
     "output_type": "display_data"
    }
   ],
   "source": [
    "soln, = sym.linsolve([eq1,eq2,eq3,eq4],(A,B,C,D))\n",
    "Asoln = soln[0]\n",
    "Bsoln = soln[1]\n",
    "Csoln = soln[2]\n",
    "Dsoln = soln[3]\n",
    "display(Asoln,Bsoln,Csoln,Dsoln)"
   ]
  },
  {
   "cell_type": "code",
   "execution_count": 41,
   "metadata": {},
   "outputs": [
    {
     "data": {
      "text/latex": [
       "$\\displaystyle 6 A - 2 C + g \\rho_{c} = 0$"
      ],
      "text/plain": [
       "Eq(6*A - 2*C + g*rho_c, 0)"
      ]
     },
     "metadata": {},
     "output_type": "display_data"
    }
   ],
   "source": [
    "lhs=(sigmarr.subs(theta,0))*(1/r)\n",
    "rhs=0\n",
    "eq=sym.Eq(lhs,rhs).simplify()\n",
    "display(eq)"
   ]
  },
  {
   "cell_type": "code",
   "execution_count": 49,
   "metadata": {},
   "outputs": [
    {
     "data": {
      "text/latex": [
       "$\\displaystyle \\frac{g \\left(3 \\rho \\sin^{10}{\\left(\\alpha \\right)} - 15 \\rho \\sin^{8}{\\left(\\alpha \\right)} + 24 \\rho \\sin^{6}{\\left(\\alpha \\right)} + 6 \\rho \\sin^{4}{\\left(\\alpha \\right)} \\cos^{6}{\\left(\\alpha \\right)} + 2 \\rho \\sin^{4}{\\left(\\alpha \\right)} \\cos{\\left(\\alpha \\right)} \\cos{\\left(3 \\alpha \\right)} - 12 \\rho \\sin^{4}{\\left(\\alpha \\right)} - 3 \\rho \\sin^{2}{\\left(\\alpha \\right)} - 2 \\rho \\sin{\\left(\\alpha \\right)} \\sin{\\left(3 \\alpha \\right)} - 3 \\rho \\cos^{10}{\\left(\\alpha \\right)} + 12 \\rho \\cos^{8}{\\left(\\alpha \\right)} - 12 \\rho \\cos^{6}{\\left(\\alpha \\right)} - 2 \\rho \\cos^{5}{\\left(\\alpha \\right)} \\cos{\\left(3 \\alpha \\right)} + 4 \\rho \\cos^{3}{\\left(\\alpha \\right)} \\cos{\\left(3 \\alpha \\right)} + \\rho - 3 \\rho_{c} \\sin^{10}{\\left(\\alpha \\right)} + 15 \\rho_{c} \\sin^{8}{\\left(\\alpha \\right)} - 68 \\rho_{c} \\sin^{6}{\\left(\\alpha \\right)} - 6 \\rho_{c} \\sin^{4}{\\left(\\alpha \\right)} \\cos^{6}{\\left(\\alpha \\right)} - 2 \\rho_{c} \\sin^{4}{\\left(\\alpha \\right)} \\cos{\\left(\\alpha \\right)} \\cos{\\left(3 \\alpha \\right)} + 88 \\rho_{c} \\sin^{4}{\\left(\\alpha \\right)} - 8 \\rho_{c} \\sin^{2}{\\left(\\alpha \\right)} + 2 \\rho_{c} \\sin{\\left(\\alpha \\right)} \\sin{\\left(3 \\alpha \\right)} + 3 \\rho_{c} \\sin^{2}{\\left(3 \\alpha \\right)} + 3 \\rho_{c} \\cos^{10}{\\left(\\alpha \\right)} - 12 \\rho_{c} \\cos^{8}{\\left(\\alpha \\right)} + 16 \\rho_{c} \\cos^{6}{\\left(\\alpha \\right)} + 2 \\rho_{c} \\cos^{5}{\\left(\\alpha \\right)} \\cos{\\left(3 \\alpha \\right)} - 4 \\rho_{c} \\cos^{3}{\\left(\\alpha \\right)} \\cos{\\left(3 \\alpha \\right)} + 4 \\rho_{c} \\cos{\\left(\\alpha \\right)} \\cos{\\left(3 \\alpha \\right)} - 9 \\rho_{c}\\right)}{48 \\sin^{6}{\\left(\\alpha \\right)} - 88 \\sin^{4}{\\left(\\alpha \\right)} + 27 \\sin^{2}{\\left(\\alpha \\right)} - 3 \\sin^{2}{\\left(3 \\alpha \\right)}} = 0$"
      ],
      "text/plain": [
       "Eq(g*(3*rho*sin(alpha)**10 - 15*rho*sin(alpha)**8 + 24*rho*sin(alpha)**6 + 6*rho*sin(alpha)**4*cos(alpha)**6 + 2*rho*sin(alpha)**4*cos(alpha)*cos(3*alpha) - 12*rho*sin(alpha)**4 - 3*rho*sin(alpha)**2 - 2*rho*sin(alpha)*sin(3*alpha) - 3*rho*cos(alpha)**10 + 12*rho*cos(alpha)**8 - 12*rho*cos(alpha)**6 - 2*rho*cos(alpha)**5*cos(3*alpha) + 4*rho*cos(alpha)**3*cos(3*alpha) + rho - 3*rho_c*sin(alpha)**10 + 15*rho_c*sin(alpha)**8 - 68*rho_c*sin(alpha)**6 - 6*rho_c*sin(alpha)**4*cos(alpha)**6 - 2*rho_c*sin(alpha)**4*cos(alpha)*cos(3*alpha) + 88*rho_c*sin(alpha)**4 - 8*rho_c*sin(alpha)**2 + 2*rho_c*sin(alpha)*sin(3*alpha) + 3*rho_c*sin(3*alpha)**2 + 3*rho_c*cos(alpha)**10 - 12*rho_c*cos(alpha)**8 + 16*rho_c*cos(alpha)**6 + 2*rho_c*cos(alpha)**5*cos(3*alpha) - 4*rho_c*cos(alpha)**3*cos(3*alpha) + 4*rho_c*cos(alpha)*cos(3*alpha) - 9*rho_c)/(48*sin(alpha)**6 - 88*sin(alpha)**4 + 27*sin(alpha)**2 - 3*sin(3*alpha)**2), 0)"
      ]
     },
     "metadata": {},
     "output_type": "display_data"
    }
   ],
   "source": [
    "eq5=eq.subs([(A,Asoln),(C,Csoln)]).simplify()\n",
    "display(eq5)"
   ]
  },
  {
   "cell_type": "code",
   "execution_count": 57,
   "metadata": {},
   "outputs": [
    {
     "data": {
      "text/latex": [
       "$\\displaystyle \\frac{- 38.259 \\sin^{10}{\\left(\\alpha \\right)} + 191.295 \\sin^{8}{\\left(\\alpha \\right)} - 1298.844 \\sin^{6}{\\left(\\alpha \\right)} - 76.518 \\sin^{4}{\\left(\\alpha \\right)} \\cos^{6}{\\left(\\alpha \\right)} - 25.506 \\sin^{4}{\\left(\\alpha \\right)} \\cos{\\left(\\alpha \\right)} \\cos{\\left(3 \\alpha \\right)} + 1867.824 \\sin^{4}{\\left(\\alpha \\right)} - 209.934 \\sin^{2}{\\left(\\alpha \\right)} + 25.506 \\sin{\\left(\\alpha \\right)} \\sin{\\left(3 \\alpha \\right)} + 67.689 \\sin^{2}{\\left(3 \\alpha \\right)} + 38.259 \\cos^{10}{\\left(\\alpha \\right)} - 153.036 \\cos^{8}{\\left(\\alpha \\right)} + 243.288 \\cos^{6}{\\left(\\alpha \\right)} + 25.506 \\cos^{5}{\\left(\\alpha \\right)} \\cos{\\left(3 \\alpha \\right)} - 51.012 \\cos^{3}{\\left(\\alpha \\right)} \\cos{\\left(3 \\alpha \\right)} + 90.252 \\cos{\\left(\\alpha \\right)} \\cos{\\left(3 \\alpha \\right)} - 193.257}{48 \\sin^{6}{\\left(\\alpha \\right)} - 88 \\sin^{4}{\\left(\\alpha \\right)} + 27 \\sin^{2}{\\left(\\alpha \\right)} - 3 \\sin^{2}{\\left(3 \\alpha \\right)}} = 0$"
      ],
      "text/plain": [
       "Eq((-38.259*sin(alpha)**10 + 191.295*sin(alpha)**8 - 1298.844*sin(alpha)**6 - 76.518*sin(alpha)**4*cos(alpha)**6 - 25.506*sin(alpha)**4*cos(alpha)*cos(3*alpha) + 1867.824*sin(alpha)**4 - 209.934*sin(alpha)**2 + 25.506*sin(alpha)*sin(3*alpha) + 67.689*sin(3*alpha)**2 + 38.259*cos(alpha)**10 - 153.036*cos(alpha)**8 + 243.288*cos(alpha)**6 + 25.506*cos(alpha)**5*cos(3*alpha) - 51.012*cos(alpha)**3*cos(3*alpha) + 90.252*cos(alpha)*cos(3*alpha) - 193.257)/(48*sin(alpha)**6 - 88*sin(alpha)**4 + 27*sin(alpha)**2 - 3*sin(3*alpha)**2), 0)"
      ]
     },
     "metadata": {},
     "output_type": "display_data"
    }
   ],
   "source": [
    "eq6=eq5.subs([(g,9.81),(rho,1),(rhoc,2.3)]).expand().simplify()\n",
    "display(eq6)"
   ]
  },
  {
   "cell_type": "code",
   "execution_count": 58,
   "metadata": {},
   "outputs": [
    {
     "ename": "NonlinearError",
     "evalue": "nonlinear term encountered: -193.257/(48*sin(alpha)**6 - 88*sin(alpha)**4 + 27*sin(alpha)**2 - 3*sin(3*alpha)**2)",
     "output_type": "error",
     "traceback": [
      "\u001b[1;31m---------------------------------------------------------------------------\u001b[0m",
      "\u001b[1;31mNonlinearError\u001b[0m                            Traceback (most recent call last)",
      "\u001b[1;32m<ipython-input-58-eee73ea1e492>\u001b[0m in \u001b[0;36m<module>\u001b[1;34m\u001b[0m\n\u001b[1;32m----> 1\u001b[1;33m \u001b[0msym\u001b[0m\u001b[1;33m.\u001b[0m\u001b[0mlinsolve\u001b[0m\u001b[1;33m(\u001b[0m\u001b[1;33m[\u001b[0m\u001b[0meq6\u001b[0m\u001b[1;33m]\u001b[0m\u001b[1;33m,\u001b[0m\u001b[1;33m[\u001b[0m\u001b[0malpha\u001b[0m\u001b[1;33m]\u001b[0m\u001b[1;33m)\u001b[0m\u001b[1;33m\u001b[0m\u001b[1;33m\u001b[0m\u001b[0m\n\u001b[0m",
      "\u001b[1;32m~\\anaconda3\\lib\\site-packages\\sympy\\solvers\\solveset.py\u001b[0m in \u001b[0;36mlinsolve\u001b[1;34m(system, *symbols)\u001b[0m\n\u001b[0;32m   2569\u001b[0m                 recursive=True) for i in system]\n\u001b[0;32m   2570\u001b[0m             \u001b[0msystem\u001b[0m\u001b[1;33m,\u001b[0m \u001b[0msymbols\u001b[0m\u001b[1;33m,\u001b[0m \u001b[0mswap\u001b[0m \u001b[1;33m=\u001b[0m \u001b[0mrecast_to_symbols\u001b[0m\u001b[1;33m(\u001b[0m\u001b[0msystem\u001b[0m\u001b[1;33m,\u001b[0m \u001b[0msymbols\u001b[0m\u001b[1;33m)\u001b[0m\u001b[1;33m\u001b[0m\u001b[1;33m\u001b[0m\u001b[0m\n\u001b[1;32m-> 2571\u001b[1;33m             \u001b[0mA\u001b[0m\u001b[1;33m,\u001b[0m \u001b[0mb\u001b[0m \u001b[1;33m=\u001b[0m \u001b[0mlinear_eq_to_matrix\u001b[0m\u001b[1;33m(\u001b[0m\u001b[0msystem\u001b[0m\u001b[1;33m,\u001b[0m \u001b[0msymbols\u001b[0m\u001b[1;33m)\u001b[0m\u001b[1;33m\u001b[0m\u001b[1;33m\u001b[0m\u001b[0m\n\u001b[0m\u001b[0;32m   2572\u001b[0m             \u001b[0msyms_needed_msg\u001b[0m \u001b[1;33m=\u001b[0m \u001b[1;34m'free symbols in the equations provided'\u001b[0m\u001b[1;33m\u001b[0m\u001b[1;33m\u001b[0m\u001b[0m\n\u001b[0;32m   2573\u001b[0m \u001b[1;33m\u001b[0m\u001b[0m\n",
      "\u001b[1;32m~\\anaconda3\\lib\\site-packages\\sympy\\solvers\\solveset.py\u001b[0m in \u001b[0;36mlinear_eq_to_matrix\u001b[1;34m(equations, *symbols)\u001b[0m\n\u001b[0;32m   2376\u001b[0m         \u001b[1;32mif\u001b[0m \u001b[0misinstance\u001b[0m\u001b[1;33m(\u001b[0m\u001b[0mf\u001b[0m\u001b[1;33m,\u001b[0m \u001b[0mEquality\u001b[0m\u001b[1;33m)\u001b[0m\u001b[1;33m:\u001b[0m\u001b[1;33m\u001b[0m\u001b[1;33m\u001b[0m\u001b[0m\n\u001b[0;32m   2377\u001b[0m             \u001b[0mf\u001b[0m \u001b[1;33m=\u001b[0m \u001b[0mf\u001b[0m\u001b[1;33m.\u001b[0m\u001b[0mrewrite\u001b[0m\u001b[1;33m(\u001b[0m\u001b[0mAdd\u001b[0m\u001b[1;33m,\u001b[0m \u001b[0mevaluate\u001b[0m\u001b[1;33m=\u001b[0m\u001b[1;32mFalse\u001b[0m\u001b[1;33m)\u001b[0m\u001b[1;33m\u001b[0m\u001b[1;33m\u001b[0m\u001b[0m\n\u001b[1;32m-> 2378\u001b[1;33m         \u001b[0mcoeff_list\u001b[0m \u001b[1;33m=\u001b[0m \u001b[0mlinear_coeffs\u001b[0m\u001b[1;33m(\u001b[0m\u001b[0mf\u001b[0m\u001b[1;33m,\u001b[0m \u001b[1;33m*\u001b[0m\u001b[0msymbols\u001b[0m\u001b[1;33m)\u001b[0m\u001b[1;33m\u001b[0m\u001b[1;33m\u001b[0m\u001b[0m\n\u001b[0m\u001b[0;32m   2379\u001b[0m         \u001b[0mb\u001b[0m\u001b[1;33m.\u001b[0m\u001b[0mappend\u001b[0m\u001b[1;33m(\u001b[0m\u001b[1;33m-\u001b[0m\u001b[0mcoeff_list\u001b[0m\u001b[1;33m.\u001b[0m\u001b[0mpop\u001b[0m\u001b[1;33m(\u001b[0m\u001b[1;33m)\u001b[0m\u001b[1;33m)\u001b[0m\u001b[1;33m\u001b[0m\u001b[1;33m\u001b[0m\u001b[0m\n\u001b[0;32m   2380\u001b[0m         \u001b[0mA\u001b[0m\u001b[1;33m.\u001b[0m\u001b[0mappend\u001b[0m\u001b[1;33m(\u001b[0m\u001b[0mcoeff_list\u001b[0m\u001b[1;33m)\u001b[0m\u001b[1;33m\u001b[0m\u001b[1;33m\u001b[0m\u001b[0m\n",
      "\u001b[1;32m~\\anaconda3\\lib\\site-packages\\sympy\\solvers\\solveset.py\u001b[0m in \u001b[0;36mlinear_coeffs\u001b[1;34m(eq, *syms, **_kw)\u001b[0m\n\u001b[0;32m   2264\u001b[0m             \u001b[1;32mreturn\u001b[0m \u001b[1;33m[\u001b[0m\u001b[0md\u001b[0m\u001b[1;33m.\u001b[0m\u001b[0mget\u001b[0m\u001b[1;33m(\u001b[0m\u001b[0ms\u001b[0m\u001b[1;33m,\u001b[0m \u001b[0mS\u001b[0m\u001b[1;33m.\u001b[0m\u001b[0mZero\u001b[0m\u001b[1;33m)\u001b[0m \u001b[1;32mfor\u001b[0m \u001b[0ms\u001b[0m \u001b[1;32min\u001b[0m \u001b[0msyms\u001b[0m\u001b[1;33m]\u001b[0m \u001b[1;33m+\u001b[0m \u001b[1;33m[\u001b[0m\u001b[0md\u001b[0m\u001b[1;33m[\u001b[0m\u001b[1;36m0\u001b[0m\u001b[1;33m]\u001b[0m\u001b[1;33m]\u001b[0m\u001b[1;33m\u001b[0m\u001b[1;33m\u001b[0m\u001b[0m\n\u001b[0;32m   2265\u001b[0m         \u001b[1;32mreturn\u001b[0m \u001b[0md\u001b[0m  \u001b[1;31m# default is still list but this won't matter\u001b[0m\u001b[1;33m\u001b[0m\u001b[1;33m\u001b[0m\u001b[0m\n\u001b[1;32m-> 2266\u001b[1;33m     \u001b[1;32mraise\u001b[0m \u001b[0mNonlinearError\u001b[0m\u001b[1;33m(\u001b[0m\u001b[1;34m'nonlinear term encountered: %s'\u001b[0m \u001b[1;33m%\u001b[0m \u001b[0mt\u001b[0m\u001b[1;33m)\u001b[0m\u001b[1;33m\u001b[0m\u001b[1;33m\u001b[0m\u001b[0m\n\u001b[0m\u001b[0;32m   2267\u001b[0m \u001b[1;33m\u001b[0m\u001b[0m\n\u001b[0;32m   2268\u001b[0m \u001b[1;33m\u001b[0m\u001b[0m\n",
      "\u001b[1;31mNonlinearError\u001b[0m: nonlinear term encountered: -193.257/(48*sin(alpha)**6 - 88*sin(alpha)**4 + 27*sin(alpha)**2 - 3*sin(3*alpha)**2)"
     ]
    }
   ],
   "source": [
    "sym.linsolve([eq6],[alpha])"
   ]
  },
  {
   "cell_type": "code",
   "execution_count": null,
   "metadata": {},
   "outputs": [],
   "source": []
  }
 ],
 "metadata": {
  "kernelspec": {
   "display_name": "Python 3",
   "language": "python",
   "name": "python3"
  },
  "language_info": {
   "codemirror_mode": {
    "name": "ipython",
    "version": 3
   },
   "file_extension": ".py",
   "mimetype": "text/x-python",
   "name": "python",
   "nbconvert_exporter": "python",
   "pygments_lexer": "ipython3",
   "version": "3.8.3"
  }
 },
 "nbformat": 4,
 "nbformat_minor": 4
}
