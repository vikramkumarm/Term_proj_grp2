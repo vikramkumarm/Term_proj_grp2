{
 "cells": [
  {
   "cell_type": "markdown",
   "metadata": {},
   "source": [
    "###                                    TERM PROJECT ON:\n",
    "#                     BASIC TRIANGULAR SHAPED GRAVITY DAM PROBLEM"
   ]
  },
  {
   "cell_type": "markdown",
   "metadata": {},
   "source": [
    "__Submitted by__: <br>\n",
    "            Neeraj Narayanan (20ME63R23) <br>\n",
    "            Vikram Kumar     (20ME63R29) <br>\n",
    "            Nikhil Anand     (20ME63R39) <br>"
   ]
  },
  {
   "cell_type": "markdown",
   "metadata": {},
   "source": [
    "__Abstract__<br>\n",
    "The present work is aimed to find the minimum angle that a wedged shaped concrete dam must subtend so as to avoid any tensile stress developed in the dam. Since concrete is a non-linear, non-elastic and brittle material which is strong in compression but it has essentially zero strength in tension, it is almost always used as reinforced concrete. Also concrete behaves non-linearly under tension hence we avoid any tensile stress in the whole structure. The implementation of problem is done solely on Jupyter Notebook, however some complex plots were developed by Matlab."
   ]
  },
  {
   "cell_type": "markdown",
   "metadata": {},
   "source": [
    "## Workflow of the problem \n",
    "- Stress formulation and biharmonic equations due to conservative vector fields\n",
    "- Plane Elasticity in polar coordinates\n",
    "- Problem Statement\n",
    "- Stress fields\n",
    "- Implementation of boundary conditions\n",
    "- Plots and Results\n",
    "- References\n",
    "- Contributions"
   ]
  },
  {
   "cell_type": "markdown",
   "metadata": {},
   "source": [
    "## Stress Formulation and biharmonic equation:\n",
    "Stress equillibrium equations, compatibility equations and constitutive law relations can be reduced to\n",
    "\\begin{align}\n",
    "\\nabla^4\\phi = -(1-\\nu)\\times \\nabla^2V\n",
    "\\end{align}<br>\n",
    "by using appropriate algebric manipulations for conservative body forces.\n",
    "where, V is the scalar potential and \\phi is the stress function.<br>\n",
    "for conservative fields body force $\\vec{\\mathbf{F}}$ can be represented as gradient of scalar potential V.\n",
    "\\begin{align}\n",
    "\\vec{\\mathbf{F}} = \\nabla V\n",
    "\\end{align}"
   ]
  },
  {
   "cell_type": "code",
   "execution_count": null,
   "metadata": {},
   "outputs": [],
   "source": []
  }
 ],
 "metadata": {
  "kernelspec": {
   "display_name": "Python 3",
   "language": "python",
   "name": "python3"
  },
  "language_info": {
   "codemirror_mode": {
    "name": "ipython",
    "version": 3
   },
   "file_extension": ".py",
   "mimetype": "text/x-python",
   "name": "python",
   "nbconvert_exporter": "python",
   "pygments_lexer": "ipython3",
   "version": "3.8.3"
  }
 },
 "nbformat": 4,
 "nbformat_minor": 4
}
